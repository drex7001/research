{
 "cells": [
  {
   "cell_type": "code",
   "execution_count": 8,
   "metadata": {},
   "outputs": [
    {
     "ename": "ModuleNotFoundError",
     "evalue": "No module named 'catboost'",
     "output_type": "error",
     "traceback": [
      "\u001b[1;31m---------------------------------------------------------------------------\u001b[0m",
      "\u001b[1;31mModuleNotFoundError\u001b[0m                       Traceback (most recent call last)",
      "\u001b[1;32m~\\AppData\\Local\\Temp/ipykernel_10972/1722212679.py\u001b[0m in \u001b[0;36m<module>\u001b[1;34m\u001b[0m\n\u001b[0;32m      9\u001b[0m \u001b[1;32mfrom\u001b[0m \u001b[0msklearn\u001b[0m\u001b[1;33m.\u001b[0m\u001b[0mlinear_model\u001b[0m \u001b[1;32mimport\u001b[0m \u001b[0mLogisticRegression\u001b[0m\u001b[1;33m\u001b[0m\u001b[1;33m\u001b[0m\u001b[0m\n\u001b[0;32m     10\u001b[0m \u001b[1;32mfrom\u001b[0m \u001b[0msklearn\u001b[0m\u001b[1;33m.\u001b[0m\u001b[0mmetrics\u001b[0m \u001b[1;32mimport\u001b[0m \u001b[0mconfusion_matrix\u001b[0m\u001b[1;33m,\u001b[0m \u001b[0maccuracy_score\u001b[0m\u001b[1;33m,\u001b[0m\u001b[0mclassification_report\u001b[0m\u001b[1;33m,\u001b[0m\u001b[0mroc_curve\u001b[0m\u001b[1;33m,\u001b[0m\u001b[0mroc_auc_score\u001b[0m\u001b[1;33m\u001b[0m\u001b[1;33m\u001b[0m\u001b[0m\n\u001b[1;32m---> 11\u001b[1;33m \u001b[1;32mfrom\u001b[0m \u001b[0mcatboost\u001b[0m \u001b[1;32mimport\u001b[0m \u001b[0mCatBoostClassifier\u001b[0m\u001b[1;33m\u001b[0m\u001b[1;33m\u001b[0m\u001b[0m\n\u001b[0m\u001b[0;32m     12\u001b[0m \u001b[1;32mimport\u001b[0m \u001b[0mstatsmodels\u001b[0m\u001b[1;33m.\u001b[0m\u001b[0mapi\u001b[0m \u001b[1;32mas\u001b[0m \u001b[0msm\u001b[0m\u001b[1;33m\u001b[0m\u001b[1;33m\u001b[0m\u001b[0m\n\u001b[0;32m     13\u001b[0m \u001b[1;32mfrom\u001b[0m \u001b[0mstatsmodels\u001b[0m\u001b[1;33m.\u001b[0m\u001b[0mstats\u001b[0m\u001b[1;33m.\u001b[0m\u001b[0moutliers_influence\u001b[0m \u001b[1;32mimport\u001b[0m \u001b[0mvariance_inflation_factor\u001b[0m\u001b[1;33m\u001b[0m\u001b[1;33m\u001b[0m\u001b[0m\n",
      "\u001b[1;31mModuleNotFoundError\u001b[0m: No module named 'catboost'"
     ]
    }
   ],
   "source": [
    "from imblearn.over_sampling import SMOTE #This is for SMOTE\n",
    "import pandas as pd\n",
    "import numpy as np\n",
    "import seaborn as sns\n",
    "import matplotlib.pyplot as plt\n",
    "from sklearn.model_selection import train_test_split,cross_val_score, GridSearchCV, RepeatedStratifiedKFold\n",
    "from sklearn.preprocessing import MinMaxScaler\n",
    "from sklearn.datasets import make_classification \n",
    "from sklearn.linear_model import LogisticRegression\n",
    "from sklearn.metrics import confusion_matrix, accuracy_score,classification_report,roc_curve,roc_auc_score\n",
    "from catboost import CatBoostClassifier\n",
    "import statsmodels.api as sm\n",
    "from statsmodels.stats.outliers_influence import variance_inflation_factor\n",
    "from sklearn.ensemble import GradientBoostingClassifier, AdaBoostClassifier, RandomForestClassifier\n",
    "from xgboost import XGBClassifier\n",
    "import pickle"
   ]
  },
  {
   "cell_type": "code",
   "execution_count": 1,
   "metadata": {},
   "outputs": [
    {
     "ename": "NameError",
     "evalue": "name 'pd' is not defined",
     "output_type": "error",
     "traceback": [
      "\u001b[1;31m---------------------------------------------------------------------------\u001b[0m",
      "\u001b[1;31mNameError\u001b[0m                                 Traceback (most recent call last)",
      "\u001b[1;32m~\\AppData\\Local\\Temp/ipykernel_10972/3373566717.py\u001b[0m in \u001b[0;36m<module>\u001b[1;34m\u001b[0m\n\u001b[1;32m----> 1\u001b[1;33m \u001b[0mdf\u001b[0m\u001b[1;33m=\u001b[0m \u001b[0mpd\u001b[0m\u001b[1;33m.\u001b[0m\u001b[0mread_excel\u001b[0m\u001b[1;33m(\u001b[0m\u001b[1;34m'C:\\\\Users\\\\ayodh\\\\OneDrive\\\\Desktop\\\\Research\\\\Code\\\\Final.xlsx'\u001b[0m\u001b[1;33m)\u001b[0m\u001b[1;33m\u001b[0m\u001b[1;33m\u001b[0m\u001b[0m\n\u001b[0m",
      "\u001b[1;31mNameError\u001b[0m: name 'pd' is not defined"
     ]
    }
   ],
   "source": [
    "df= pd.read_excel('C:\\\\Users\\\\ayodh\\\\OneDrive\\\\Desktop\\\\Research\\\\Code\\\\Final.xlsx')"
   ]
  },
  {
   "cell_type": "code",
   "execution_count": 7,
   "metadata": {},
   "outputs": [
    {
     "data": {
      "text/html": [
       "<div>\n",
       "<style scoped>\n",
       "    .dataframe tbody tr th:only-of-type {\n",
       "        vertical-align: middle;\n",
       "    }\n",
       "\n",
       "    .dataframe tbody tr th {\n",
       "        vertical-align: top;\n",
       "    }\n",
       "\n",
       "    .dataframe thead th {\n",
       "        text-align: right;\n",
       "    }\n",
       "</style>\n",
       "<table border=\"1\" class=\"dataframe\">\n",
       "  <thead>\n",
       "    <tr style=\"text-align: right;\">\n",
       "      <th></th>\n",
       "      <th>Date</th>\n",
       "      <th>beans</th>\n",
       "      <th>carrot</th>\n",
       "      <th>cabbage</th>\n",
       "      <th>tomattos</th>\n",
       "      <th>brinjal</th>\n",
       "      <th>pumpkin</th>\n",
       "      <th>snake gourd</th>\n",
       "      <th>temp_max</th>\n",
       "      <th>temp_min</th>\n",
       "      <th>humidity</th>\n",
       "      <th>Area</th>\n",
       "      <th>Prod</th>\n",
       "    </tr>\n",
       "  </thead>\n",
       "  <tbody>\n",
       "    <tr>\n",
       "      <th>0</th>\n",
       "      <td>2016-AUG-1</td>\n",
       "      <td>122</td>\n",
       "      <td>100</td>\n",
       "      <td>70</td>\n",
       "      <td>54</td>\n",
       "      <td>60</td>\n",
       "      <td>70</td>\n",
       "      <td>58</td>\n",
       "      <td>34.3</td>\n",
       "      <td>26.2</td>\n",
       "      <td>64.10</td>\n",
       "      <td>61.800000</td>\n",
       "      <td>865</td>\n",
       "    </tr>\n",
       "    <tr>\n",
       "      <th>1</th>\n",
       "      <td>2016-AUG-2</td>\n",
       "      <td>97</td>\n",
       "      <td>82</td>\n",
       "      <td>65</td>\n",
       "      <td>35</td>\n",
       "      <td>52</td>\n",
       "      <td>60</td>\n",
       "      <td>46</td>\n",
       "      <td>33.2</td>\n",
       "      <td>26.7</td>\n",
       "      <td>62.40</td>\n",
       "      <td>261.652197</td>\n",
       "      <td>2177</td>\n",
       "    </tr>\n",
       "    <tr>\n",
       "      <th>2</th>\n",
       "      <td>2016-AUG-3</td>\n",
       "      <td>87</td>\n",
       "      <td>84</td>\n",
       "      <td>72</td>\n",
       "      <td>27</td>\n",
       "      <td>60</td>\n",
       "      <td>48</td>\n",
       "      <td>34</td>\n",
       "      <td>33.8</td>\n",
       "      <td>26.7</td>\n",
       "      <td>60.19</td>\n",
       "      <td>155.010000</td>\n",
       "      <td>1050</td>\n",
       "    </tr>\n",
       "    <tr>\n",
       "      <th>3</th>\n",
       "      <td>2016-AUG-4</td>\n",
       "      <td>105</td>\n",
       "      <td>74</td>\n",
       "      <td>59</td>\n",
       "      <td>26</td>\n",
       "      <td>59</td>\n",
       "      <td>35</td>\n",
       "      <td>33</td>\n",
       "      <td>33.1</td>\n",
       "      <td>26.1</td>\n",
       "      <td>64.62</td>\n",
       "      <td>234.981000</td>\n",
       "      <td>2949</td>\n",
       "    </tr>\n",
       "    <tr>\n",
       "      <th>4</th>\n",
       "      <td>2016-SEP-1</td>\n",
       "      <td>112</td>\n",
       "      <td>74</td>\n",
       "      <td>61</td>\n",
       "      <td>27</td>\n",
       "      <td>59</td>\n",
       "      <td>33</td>\n",
       "      <td>33</td>\n",
       "      <td>33.9</td>\n",
       "      <td>27.7</td>\n",
       "      <td>61.14</td>\n",
       "      <td>170.598948</td>\n",
       "      <td>1254</td>\n",
       "    </tr>\n",
       "    <tr>\n",
       "      <th>...</th>\n",
       "      <td>...</td>\n",
       "      <td>...</td>\n",
       "      <td>...</td>\n",
       "      <td>...</td>\n",
       "      <td>...</td>\n",
       "      <td>...</td>\n",
       "      <td>...</td>\n",
       "      <td>...</td>\n",
       "      <td>...</td>\n",
       "      <td>...</td>\n",
       "      <td>...</td>\n",
       "      <td>...</td>\n",
       "      <td>...</td>\n",
       "    </tr>\n",
       "    <tr>\n",
       "      <th>111</th>\n",
       "      <td>2018-NOV-4</td>\n",
       "      <td>148</td>\n",
       "      <td>227</td>\n",
       "      <td>112</td>\n",
       "      <td>248</td>\n",
       "      <td>124</td>\n",
       "      <td>46</td>\n",
       "      <td>113</td>\n",
       "      <td>25.2</td>\n",
       "      <td>24.1</td>\n",
       "      <td>95.45</td>\n",
       "      <td>209.100000</td>\n",
       "      <td>2229</td>\n",
       "    </tr>\n",
       "    <tr>\n",
       "      <th>112</th>\n",
       "      <td>2018-DEC-1</td>\n",
       "      <td>139</td>\n",
       "      <td>224</td>\n",
       "      <td>94</td>\n",
       "      <td>197</td>\n",
       "      <td>113</td>\n",
       "      <td>45</td>\n",
       "      <td>85</td>\n",
       "      <td>26.4</td>\n",
       "      <td>24.6</td>\n",
       "      <td>92.21</td>\n",
       "      <td>98.281505</td>\n",
       "      <td>911</td>\n",
       "    </tr>\n",
       "    <tr>\n",
       "      <th>113</th>\n",
       "      <td>2018-DEC-2</td>\n",
       "      <td>177</td>\n",
       "      <td>205</td>\n",
       "      <td>100</td>\n",
       "      <td>278</td>\n",
       "      <td>107</td>\n",
       "      <td>39</td>\n",
       "      <td>89</td>\n",
       "      <td>27.9</td>\n",
       "      <td>24.9</td>\n",
       "      <td>88.13</td>\n",
       "      <td>80.590000</td>\n",
       "      <td>648</td>\n",
       "    </tr>\n",
       "    <tr>\n",
       "      <th>114</th>\n",
       "      <td>2018-DEC-3</td>\n",
       "      <td>107</td>\n",
       "      <td>125</td>\n",
       "      <td>90</td>\n",
       "      <td>117</td>\n",
       "      <td>69</td>\n",
       "      <td>32</td>\n",
       "      <td>69</td>\n",
       "      <td>28.3</td>\n",
       "      <td>24.8</td>\n",
       "      <td>83.50</td>\n",
       "      <td>335.730000</td>\n",
       "      <td>2185</td>\n",
       "    </tr>\n",
       "    <tr>\n",
       "      <th>115</th>\n",
       "      <td>2018-DEC-4</td>\n",
       "      <td>106</td>\n",
       "      <td>123</td>\n",
       "      <td>84</td>\n",
       "      <td>116</td>\n",
       "      <td>66</td>\n",
       "      <td>31</td>\n",
       "      <td>68</td>\n",
       "      <td>28.4</td>\n",
       "      <td>25.1</td>\n",
       "      <td>82.25</td>\n",
       "      <td>476.413500</td>\n",
       "      <td>4245</td>\n",
       "    </tr>\n",
       "  </tbody>\n",
       "</table>\n",
       "<p>116 rows × 13 columns</p>\n",
       "</div>"
      ],
      "text/plain": [
       "           Date  beans  carrot  cabbage  tomattos  brinjal  pumpkin  \\\n",
       "0    2016-AUG-1    122     100       70        54       60       70   \n",
       "1    2016-AUG-2     97      82       65        35       52       60   \n",
       "2    2016-AUG-3     87      84       72        27       60       48   \n",
       "3    2016-AUG-4    105      74       59        26       59       35   \n",
       "4    2016-SEP-1    112      74       61        27       59       33   \n",
       "..          ...    ...     ...      ...       ...      ...      ...   \n",
       "111  2018-NOV-4    148     227      112       248      124       46   \n",
       "112  2018-DEC-1    139     224       94       197      113       45   \n",
       "113  2018-DEC-2    177     205      100       278      107       39   \n",
       "114  2018-DEC-3    107     125       90       117       69       32   \n",
       "115  2018-DEC-4    106     123       84       116       66       31   \n",
       "\n",
       "     snake gourd  temp_max  temp_min  humidity        Area  Prod  \n",
       "0             58      34.3      26.2     64.10   61.800000   865  \n",
       "1             46      33.2      26.7     62.40  261.652197  2177  \n",
       "2             34      33.8      26.7     60.19  155.010000  1050  \n",
       "3             33      33.1      26.1     64.62  234.981000  2949  \n",
       "4             33      33.9      27.7     61.14  170.598948  1254  \n",
       "..           ...       ...       ...       ...         ...   ...  \n",
       "111          113      25.2      24.1     95.45  209.100000  2229  \n",
       "112           85      26.4      24.6     92.21   98.281505   911  \n",
       "113           89      27.9      24.9     88.13   80.590000   648  \n",
       "114           69      28.3      24.8     83.50  335.730000  2185  \n",
       "115           68      28.4      25.1     82.25  476.413500  4245  \n",
       "\n",
       "[116 rows x 13 columns]"
      ]
     },
     "execution_count": 7,
     "metadata": {},
     "output_type": "execute_result"
    }
   ],
   "source": [
    "df"
   ]
  },
  {
   "cell_type": "code",
   "execution_count": 1,
   "metadata": {},
   "outputs": [
    {
     "ename": "NameError",
     "evalue": "name 'df' is not defined",
     "output_type": "error",
     "traceback": [
      "\u001b[1;31m---------------------------------------------------------------------------\u001b[0m",
      "\u001b[1;31mNameError\u001b[0m                                 Traceback (most recent call last)",
      "\u001b[1;32mc:\\Users\\ayodh\\Downloads\\Production Forecasting.ipynb Cell 4'\u001b[0m in \u001b[0;36m<cell line: 1>\u001b[1;34m()\u001b[0m\n\u001b[1;32m----> <a href='vscode-notebook-cell:/c%3A/Users/ayodh/Downloads/Production%20Forecasting.ipynb#ch0000003?line=0'>1</a>\u001b[0m corr \u001b[39m=\u001b[39m df\u001b[39m.\u001b[39mcorr()\n\u001b[0;32m      <a href='vscode-notebook-cell:/c%3A/Users/ayodh/Downloads/Production%20Forecasting.ipynb#ch0000003?line=1'>2</a>\u001b[0m corr\u001b[39m.\u001b[39mstyle\u001b[39m.\u001b[39mbackground_gradient(cmap \u001b[39m=\u001b[39m\u001b[39m'\u001b[39m\u001b[39mcoolwarm\u001b[39m\u001b[39m'\u001b[39m)\n",
      "\u001b[1;31mNameError\u001b[0m: name 'df' is not defined"
     ]
    }
   ],
   "source": [
    "corr = df.corr()\n",
    "corr.style.background_gradient(cmap ='coolwarm')"
   ]
  },
  {
   "cell_type": "code",
   "execution_count": 9,
   "metadata": {},
   "outputs": [
    {
     "data": {
      "text/plain": [
       "Index(['Date', 'beans', 'carrot', 'cabbage', 'tomattos', 'brinjal', 'pumpkin',\n",
       "       'snake gourd', 'temp_max', 'temp_min', 'humidity', 'Area', 'Prod'],\n",
       "      dtype='object')"
      ]
     },
     "execution_count": 9,
     "metadata": {},
     "output_type": "execute_result"
    }
   ],
   "source": [
    "df.columns"
   ]
  },
  {
   "cell_type": "code",
   "execution_count": 10,
   "metadata": {},
   "outputs": [],
   "source": [
    "#Splitting the dataset in to x and y\n",
    "x=df.drop(['Date','Prod','beans', 'carrot', 'cabbage', 'tomattos', 'brinjal', 'pumpkin',\n",
    "       'snake gourd'], axis=1)\n",
    "y=df['Prod']"
   ]
  },
  {
   "cell_type": "code",
   "execution_count": 11,
   "metadata": {},
   "outputs": [
    {
     "data": {
      "text/html": [
       "<div>\n",
       "<style scoped>\n",
       "    .dataframe tbody tr th:only-of-type {\n",
       "        vertical-align: middle;\n",
       "    }\n",
       "\n",
       "    .dataframe tbody tr th {\n",
       "        vertical-align: top;\n",
       "    }\n",
       "\n",
       "    .dataframe thead th {\n",
       "        text-align: right;\n",
       "    }\n",
       "</style>\n",
       "<table border=\"1\" class=\"dataframe\">\n",
       "  <thead>\n",
       "    <tr style=\"text-align: right;\">\n",
       "      <th></th>\n",
       "      <th>temp_max</th>\n",
       "      <th>temp_min</th>\n",
       "      <th>humidity</th>\n",
       "      <th>Area</th>\n",
       "    </tr>\n",
       "  </thead>\n",
       "  <tbody>\n",
       "    <tr>\n",
       "      <th>0</th>\n",
       "      <td>34.3</td>\n",
       "      <td>26.2</td>\n",
       "      <td>64.10</td>\n",
       "      <td>61.800000</td>\n",
       "    </tr>\n",
       "    <tr>\n",
       "      <th>1</th>\n",
       "      <td>33.2</td>\n",
       "      <td>26.7</td>\n",
       "      <td>62.40</td>\n",
       "      <td>261.652197</td>\n",
       "    </tr>\n",
       "    <tr>\n",
       "      <th>2</th>\n",
       "      <td>33.8</td>\n",
       "      <td>26.7</td>\n",
       "      <td>60.19</td>\n",
       "      <td>155.010000</td>\n",
       "    </tr>\n",
       "    <tr>\n",
       "      <th>3</th>\n",
       "      <td>33.1</td>\n",
       "      <td>26.1</td>\n",
       "      <td>64.62</td>\n",
       "      <td>234.981000</td>\n",
       "    </tr>\n",
       "    <tr>\n",
       "      <th>4</th>\n",
       "      <td>33.9</td>\n",
       "      <td>27.7</td>\n",
       "      <td>61.14</td>\n",
       "      <td>170.598948</td>\n",
       "    </tr>\n",
       "    <tr>\n",
       "      <th>...</th>\n",
       "      <td>...</td>\n",
       "      <td>...</td>\n",
       "      <td>...</td>\n",
       "      <td>...</td>\n",
       "    </tr>\n",
       "    <tr>\n",
       "      <th>111</th>\n",
       "      <td>25.2</td>\n",
       "      <td>24.1</td>\n",
       "      <td>95.45</td>\n",
       "      <td>209.100000</td>\n",
       "    </tr>\n",
       "    <tr>\n",
       "      <th>112</th>\n",
       "      <td>26.4</td>\n",
       "      <td>24.6</td>\n",
       "      <td>92.21</td>\n",
       "      <td>98.281505</td>\n",
       "    </tr>\n",
       "    <tr>\n",
       "      <th>113</th>\n",
       "      <td>27.9</td>\n",
       "      <td>24.9</td>\n",
       "      <td>88.13</td>\n",
       "      <td>80.590000</td>\n",
       "    </tr>\n",
       "    <tr>\n",
       "      <th>114</th>\n",
       "      <td>28.3</td>\n",
       "      <td>24.8</td>\n",
       "      <td>83.50</td>\n",
       "      <td>335.730000</td>\n",
       "    </tr>\n",
       "    <tr>\n",
       "      <th>115</th>\n",
       "      <td>28.4</td>\n",
       "      <td>25.1</td>\n",
       "      <td>82.25</td>\n",
       "      <td>476.413500</td>\n",
       "    </tr>\n",
       "  </tbody>\n",
       "</table>\n",
       "<p>116 rows × 4 columns</p>\n",
       "</div>"
      ],
      "text/plain": [
       "     temp_max  temp_min  humidity        Area\n",
       "0        34.3      26.2     64.10   61.800000\n",
       "1        33.2      26.7     62.40  261.652197\n",
       "2        33.8      26.7     60.19  155.010000\n",
       "3        33.1      26.1     64.62  234.981000\n",
       "4        33.9      27.7     61.14  170.598948\n",
       "..        ...       ...       ...         ...\n",
       "111      25.2      24.1     95.45  209.100000\n",
       "112      26.4      24.6     92.21   98.281505\n",
       "113      27.9      24.9     88.13   80.590000\n",
       "114      28.3      24.8     83.50  335.730000\n",
       "115      28.4      25.1     82.25  476.413500\n",
       "\n",
       "[116 rows x 4 columns]"
      ]
     },
     "execution_count": 11,
     "metadata": {},
     "output_type": "execute_result"
    }
   ],
   "source": [
    "x"
   ]
  },
  {
   "cell_type": "code",
   "execution_count": 13,
   "metadata": {},
   "outputs": [],
   "source": [
    "x_train,x_test,y_train,y_test=train_test_split(x,y,test_size=0.2,random_state=0)"
   ]
  },
  {
   "cell_type": "code",
   "execution_count": 18,
   "metadata": {},
   "outputs": [],
   "source": [
    "parameters = {'depth'         : [4,5,6,7,8,9, 10],'learning_rate' : [0.01,0.02,0.03,0.04],'iterations'    : [10, 20,30,40,50,60,70,80,90, 100] }\n",
    "Grid_CBC = GridSearchCV(estimator=regressor, param_grid = parameters, cv = 5, n_jobs=-1)"
   ]
  },
  {
   "cell_type": "code",
   "execution_count": 14,
   "metadata": {},
   "outputs": [
    {
     "data": {
      "text/plain": [
       "RandomForestRegressor(random_state=0)"
      ]
     },
     "execution_count": 14,
     "metadata": {},
     "output_type": "execute_result"
    }
   ],
   "source": [
    "# fit the regressor with x and y data\n",
    "regressor.fit(x, y) # Fitting Random Forest Regression to the dataset\n",
    "# import the regressor\n",
    "from sklearn.ensemble import RandomForestRegressor\n",
    " \n",
    " # create regressor object\n",
    "regressor = RandomForestRegressor(n_estimators = 100, random_state = 0)\n",
    " \n",
    "# fit the regressor with x and y data\n",
    "regressor.fit(x, y) "
   ]
  },
  {
   "cell_type": "code",
   "execution_count": 15,
   "metadata": {},
   "outputs": [],
   "source": [
    "y_pred=regressor.predict(x_test)"
   ]
  },
  {
   "cell_type": "code",
   "execution_count": 17,
   "metadata": {},
   "outputs": [
    {
     "data": {
      "text/plain": [
       "2773474.0423166696"
      ]
     },
     "execution_count": 17,
     "metadata": {},
     "output_type": "execute_result"
    }
   ],
   "source": [
    "from sklearn.metrics import mean_squared_error\n",
    "mean_squared_error(y_test,y_pred)"
   ]
  },
  {
   "cell_type": "code",
   "execution_count": 19,
   "metadata": {},
   "outputs": [],
   "source": [
    "param_grid = {  'bootstrap': [True], 'max_depth': [5, 10, None], 'max_features': ['auto', 'log2'], 'n_estimators': [5, 6, 7, 8, 9, 10, 11, 12, 13, 15]}"
   ]
  },
  {
   "cell_type": "code",
   "execution_count": 20,
   "metadata": {},
   "outputs": [],
   "source": [
    "rfr = RandomForestRegressor(random_state = 1)"
   ]
  },
  {
   "cell_type": "code",
   "execution_count": 21,
   "metadata": {},
   "outputs": [],
   "source": [
    "g_search = GridSearchCV(estimator = rfr, param_grid = param_grid, \n",
    "\n",
    "                          cv = 3, n_jobs = 1, verbose = 0, return_train_score=True)"
   ]
  },
  {
   "cell_type": "code",
   "execution_count": 22,
   "metadata": {},
   "outputs": [
    {
     "name": "stdout",
     "output_type": "stream",
     "text": [
      "{'bootstrap': True, 'max_depth': 5, 'max_features': 'auto', 'n_estimators': 7}\n"
     ]
    }
   ],
   "source": [
    "g_search.fit(x_train, y_train);\n",
    "print(g_search.best_params_)"
   ]
  },
  {
   "cell_type": "code",
   "execution_count": 25,
   "metadata": {},
   "outputs": [
    {
     "name": "stdout",
     "output_type": "stream",
     "text": [
      "0.9784525625194009\n"
     ]
    }
   ],
   "source": [
    "print(g_search.score(x_test, y_test))"
   ]
  },
  {
   "cell_type": "code",
   "execution_count": null,
   "metadata": {},
   "outputs": [],
   "source": []
  }
 ],
 "metadata": {
  "kernelspec": {
   "display_name": "Python 3 (ipykernel)",
   "language": "python",
   "name": "python3"
  },
  "language_info": {
   "codemirror_mode": {
    "name": "ipython",
    "version": 3
   },
   "file_extension": ".py",
   "mimetype": "text/x-python",
   "name": "python",
   "nbconvert_exporter": "python",
   "pygments_lexer": "ipython3",
   "version": "3.9.7"
  }
 },
 "nbformat": 4,
 "nbformat_minor": 4
}
