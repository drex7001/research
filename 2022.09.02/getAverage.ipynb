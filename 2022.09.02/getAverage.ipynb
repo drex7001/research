{
 "cells": [
  {
   "cell_type": "code",
   "execution_count": 77,
   "id": "f8322345",
   "metadata": {},
   "outputs": [],
   "source": [
    "import pandas as pd\n",
    "import numpy as np"
   ]
  },
  {
   "cell_type": "code",
   "execution_count": 78,
   "id": "8df6736e",
   "metadata": {},
   "outputs": [],
   "source": [
    "df = pd.read_csv(\"Final_cleaned.csv\")"
   ]
  },
  {
   "cell_type": "code",
   "execution_count": 79,
   "id": "a67a3526",
   "metadata": {},
   "outputs": [
    {
     "data": {
      "text/plain": [
       "Index(['name', 'datetime', 'tempmax', 'tempmin', 'temp', 'feelslikemax',\n",
       "       'feelslikemin', 'feelslike', 'dew', 'humidity', 'windspeed', 'winddir',\n",
       "       'sealevelpressure', 'cloudcover', 'visibility', 'moonphase'],\n",
       "      dtype='object')"
      ]
     },
     "execution_count": 79,
     "metadata": {},
     "output_type": "execute_result"
    }
   ],
   "source": [
    "df.columns"
   ]
  },
  {
   "cell_type": "code",
   "execution_count": 30,
   "id": "bd2f603a",
   "metadata": {},
   "outputs": [],
   "source": [
    "# df['date']=pd.to_datetime(df['datetime'])\n",
    "# df['tempmax']=np.where(df['date'].between('1/1/2009','30/6/2009'),'1','2')\n",
    "# df.groupby(['tempmax','name'])['tempmax'].mean().to_frame('mean')"
   ]
  },
  {
   "cell_type": "code",
   "execution_count": 82,
   "id": "654f4da2",
   "metadata": {},
   "outputs": [
    {
     "data": {
      "text/html": [
       "<div>\n",
       "<style scoped>\n",
       "    .dataframe tbody tr th:only-of-type {\n",
       "        vertical-align: middle;\n",
       "    }\n",
       "\n",
       "    .dataframe tbody tr th {\n",
       "        vertical-align: top;\n",
       "    }\n",
       "\n",
       "    .dataframe thead th {\n",
       "        text-align: right;\n",
       "    }\n",
       "</style>\n",
       "<table border=\"1\" class=\"dataframe\">\n",
       "  <thead>\n",
       "    <tr style=\"text-align: right;\">\n",
       "      <th></th>\n",
       "      <th>name</th>\n",
       "      <th>datetime</th>\n",
       "      <th>avg_tempmax</th>\n",
       "    </tr>\n",
       "  </thead>\n",
       "  <tbody>\n",
       "    <tr>\n",
       "      <th>0</th>\n",
       "      <td>Ampara</td>\n",
       "      <td>0</td>\n",
       "      <td>30.661553</td>\n",
       "    </tr>\n",
       "    <tr>\n",
       "      <th>1</th>\n",
       "      <td>Ampara</td>\n",
       "      <td>sem_1</td>\n",
       "      <td>30.314118</td>\n",
       "    </tr>\n",
       "    <tr>\n",
       "      <th>2</th>\n",
       "      <td>Ampara</td>\n",
       "      <td>sem_2</td>\n",
       "      <td>31.035220</td>\n",
       "    </tr>\n",
       "    <tr>\n",
       "      <th>3</th>\n",
       "      <td>Anuradhapura</td>\n",
       "      <td>0</td>\n",
       "      <td>31.770339</td>\n",
       "    </tr>\n",
       "    <tr>\n",
       "      <th>4</th>\n",
       "      <td>Anuradhapura</td>\n",
       "      <td>sem_1</td>\n",
       "      <td>30.619412</td>\n",
       "    </tr>\n",
       "    <tr>\n",
       "      <th>...</th>\n",
       "      <td>...</td>\n",
       "      <td>...</td>\n",
       "      <td>...</td>\n",
       "    </tr>\n",
       "    <tr>\n",
       "      <th>73</th>\n",
       "      <td>Vavuniya</td>\n",
       "      <td>sem_1</td>\n",
       "      <td>30.992262</td>\n",
       "    </tr>\n",
       "    <tr>\n",
       "      <th>74</th>\n",
       "      <td>Vavuniya</td>\n",
       "      <td>sem_2</td>\n",
       "      <td>31.593750</td>\n",
       "    </tr>\n",
       "    <tr>\n",
       "      <th>75</th>\n",
       "      <td>colombo</td>\n",
       "      <td>0</td>\n",
       "      <td>30.795630</td>\n",
       "    </tr>\n",
       "    <tr>\n",
       "      <th>76</th>\n",
       "      <td>colombo</td>\n",
       "      <td>sem_1</td>\n",
       "      <td>31.246591</td>\n",
       "    </tr>\n",
       "    <tr>\n",
       "      <th>77</th>\n",
       "      <td>colombo</td>\n",
       "      <td>sem_2</td>\n",
       "      <td>30.260112</td>\n",
       "    </tr>\n",
       "  </tbody>\n",
       "</table>\n",
       "<p>78 rows × 3 columns</p>\n",
       "</div>"
      ],
      "text/plain": [
       "            name datetime  avg_tempmax\n",
       "0         Ampara        0    30.661553\n",
       "1         Ampara    sem_1    30.314118\n",
       "2         Ampara    sem_2    31.035220\n",
       "3   Anuradhapura        0    31.770339\n",
       "4   Anuradhapura    sem_1    30.619412\n",
       "..           ...      ...          ...\n",
       "73      Vavuniya    sem_1    30.992262\n",
       "74      Vavuniya    sem_2    31.593750\n",
       "75       colombo        0    30.795630\n",
       "76       colombo    sem_1    31.246591\n",
       "77       colombo    sem_2    30.260112\n",
       "\n",
       "[78 rows x 3 columns]"
      ]
     },
     "execution_count": 82,
     "metadata": {},
     "output_type": "execute_result"
    }
   ],
   "source": [
    "dates = pd.to_datetime(df['datetime'])\n",
    "new_df = (df.groupby(['name', np.select((dates.between('1/1/2009', '30/6/2009'), \n",
    "                                           dates.between('1/7/2009', '31/12/2009')), \n",
    "                                           ('sem_1', 'sem_2'))])\n",
    "            .tempmax\n",
    "            .mean()\n",
    "            .rename_axis(('name', 'datetime'))\n",
    "            .reset_index(name='avg_tempmax'))\n",
    "new_df"
   ]
  },
  {
   "cell_type": "code",
   "execution_count": 83,
   "id": "0c2014ff",
   "metadata": {},
   "outputs": [
    {
     "data": {
      "text/html": [
       "<div>\n",
       "<style scoped>\n",
       "    .dataframe tbody tr th:only-of-type {\n",
       "        vertical-align: middle;\n",
       "    }\n",
       "\n",
       "    .dataframe tbody tr th {\n",
       "        vertical-align: top;\n",
       "    }\n",
       "\n",
       "    .dataframe thead th {\n",
       "        text-align: right;\n",
       "    }\n",
       "</style>\n",
       "<table border=\"1\" class=\"dataframe\">\n",
       "  <thead>\n",
       "    <tr style=\"text-align: right;\">\n",
       "      <th></th>\n",
       "      <th>name</th>\n",
       "      <th>datetime</th>\n",
       "      <th>avg_tempmax</th>\n",
       "    </tr>\n",
       "  </thead>\n",
       "  <tbody>\n",
       "    <tr>\n",
       "      <th>0</th>\n",
       "      <td>Ampara</td>\n",
       "      <td>0</td>\n",
       "      <td>30.661553</td>\n",
       "    </tr>\n",
       "    <tr>\n",
       "      <th>1</th>\n",
       "      <td>Ampara</td>\n",
       "      <td>sem_1</td>\n",
       "      <td>30.314118</td>\n",
       "    </tr>\n",
       "    <tr>\n",
       "      <th>2</th>\n",
       "      <td>Ampara</td>\n",
       "      <td>sem_2</td>\n",
       "      <td>31.035220</td>\n",
       "    </tr>\n",
       "    <tr>\n",
       "      <th>3</th>\n",
       "      <td>Anuradhapura</td>\n",
       "      <td>0</td>\n",
       "      <td>31.770339</td>\n",
       "    </tr>\n",
       "    <tr>\n",
       "      <th>4</th>\n",
       "      <td>Anuradhapura</td>\n",
       "      <td>sem_1</td>\n",
       "      <td>30.619412</td>\n",
       "    </tr>\n",
       "    <tr>\n",
       "      <th>...</th>\n",
       "      <td>...</td>\n",
       "      <td>...</td>\n",
       "      <td>...</td>\n",
       "    </tr>\n",
       "    <tr>\n",
       "      <th>73</th>\n",
       "      <td>Vavuniya</td>\n",
       "      <td>sem_1</td>\n",
       "      <td>30.992262</td>\n",
       "    </tr>\n",
       "    <tr>\n",
       "      <th>74</th>\n",
       "      <td>Vavuniya</td>\n",
       "      <td>sem_2</td>\n",
       "      <td>31.593750</td>\n",
       "    </tr>\n",
       "    <tr>\n",
       "      <th>75</th>\n",
       "      <td>colombo</td>\n",
       "      <td>0</td>\n",
       "      <td>30.795630</td>\n",
       "    </tr>\n",
       "    <tr>\n",
       "      <th>76</th>\n",
       "      <td>colombo</td>\n",
       "      <td>sem_1</td>\n",
       "      <td>31.246591</td>\n",
       "    </tr>\n",
       "    <tr>\n",
       "      <th>77</th>\n",
       "      <td>colombo</td>\n",
       "      <td>sem_2</td>\n",
       "      <td>30.260112</td>\n",
       "    </tr>\n",
       "  </tbody>\n",
       "</table>\n",
       "<p>78 rows × 3 columns</p>\n",
       "</div>"
      ],
      "text/plain": [
       "            name datetime  avg_tempmax\n",
       "0         Ampara        0    30.661553\n",
       "1         Ampara    sem_1    30.314118\n",
       "2         Ampara    sem_2    31.035220\n",
       "3   Anuradhapura        0    31.770339\n",
       "4   Anuradhapura    sem_1    30.619412\n",
       "..           ...      ...          ...\n",
       "73      Vavuniya    sem_1    30.992262\n",
       "74      Vavuniya    sem_2    31.593750\n",
       "75       colombo        0    30.795630\n",
       "76       colombo    sem_1    31.246591\n",
       "77       colombo    sem_2    30.260112\n",
       "\n",
       "[78 rows x 3 columns]"
      ]
     },
     "execution_count": 83,
     "metadata": {},
     "output_type": "execute_result"
    }
   ],
   "source": [
    "new_df.loc[~(new_df==0).all(axis=1)]\n",
    "new_df"
   ]
  },
  {
   "cell_type": "code",
   "execution_count": 41,
   "id": "f531a243",
   "metadata": {},
   "outputs": [
    {
     "ename": "TypeError",
     "evalue": "float() argument must be a string or a number, not 'Timestamp'",
     "output_type": "error",
     "traceback": [
      "\u001b[1;31m---------------------------------------------------------------------------\u001b[0m",
      "\u001b[1;31mTypeError\u001b[0m                                 Traceback (most recent call last)",
      "\u001b[1;32m~\\AppData\\Local\\Temp/ipykernel_16736/101724372.py\u001b[0m in \u001b[0;36m<module>\u001b[1;34m\u001b[0m\n\u001b[1;32m----> 1\u001b[1;33m grp = pd.cut(df['datetime'], bins=[pd.Timestamp(2019, 1, 1), \n\u001b[0m\u001b[0;32m      2\u001b[0m                                \u001b[0mpd\u001b[0m\u001b[1;33m.\u001b[0m\u001b[0mTimestamp\u001b[0m\u001b[1;33m(\u001b[0m\u001b[1;36m2019\u001b[0m\u001b[1;33m,\u001b[0m \u001b[1;36m6\u001b[0m\u001b[1;33m,\u001b[0m \u001b[1;36m30\u001b[0m\u001b[1;33m)\u001b[0m\u001b[1;33m,\u001b[0m\u001b[1;33m\u001b[0m\u001b[1;33m\u001b[0m\u001b[0m\n\u001b[0;32m      3\u001b[0m                                pd.Timestamp(2019, 12, 31)], labels=['pre', 'post'],\n\u001b[0;32m      4\u001b[0m       right=False)\n\u001b[0;32m      5\u001b[0m \u001b[1;33m\u001b[0m\u001b[0m\n",
      "\u001b[1;32m~\\anaconda3\\lib\\site-packages\\pandas\\core\\reshape\\tile.py\u001b[0m in \u001b[0;36mcut\u001b[1;34m(x, bins, right, labels, retbins, precision, include_lowest, duplicates, ordered)\u001b[0m\n\u001b[0;32m    282\u001b[0m \u001b[1;33m\u001b[0m\u001b[0m\n\u001b[0;32m    283\u001b[0m         \u001b[1;31m# GH 26045: cast to float64 to avoid an overflow\u001b[0m\u001b[1;33m\u001b[0m\u001b[1;33m\u001b[0m\u001b[0m\n\u001b[1;32m--> 284\u001b[1;33m         \u001b[1;32mif\u001b[0m \u001b[1;33m(\u001b[0m\u001b[0mnp\u001b[0m\u001b[1;33m.\u001b[0m\u001b[0mdiff\u001b[0m\u001b[1;33m(\u001b[0m\u001b[0mbins\u001b[0m\u001b[1;33m.\u001b[0m\u001b[0mastype\u001b[0m\u001b[1;33m(\u001b[0m\u001b[1;34m\"float64\"\u001b[0m\u001b[1;33m)\u001b[0m\u001b[1;33m)\u001b[0m \u001b[1;33m<\u001b[0m \u001b[1;36m0\u001b[0m\u001b[1;33m)\u001b[0m\u001b[1;33m.\u001b[0m\u001b[0many\u001b[0m\u001b[1;33m(\u001b[0m\u001b[1;33m)\u001b[0m\u001b[1;33m:\u001b[0m\u001b[1;33m\u001b[0m\u001b[1;33m\u001b[0m\u001b[0m\n\u001b[0m\u001b[0;32m    285\u001b[0m             \u001b[1;32mraise\u001b[0m \u001b[0mValueError\u001b[0m\u001b[1;33m(\u001b[0m\u001b[1;34m\"bins must increase monotonically.\"\u001b[0m\u001b[1;33m)\u001b[0m\u001b[1;33m\u001b[0m\u001b[1;33m\u001b[0m\u001b[0m\n\u001b[0;32m    286\u001b[0m \u001b[1;33m\u001b[0m\u001b[0m\n",
      "\u001b[1;31mTypeError\u001b[0m: float() argument must be a string or a number, not 'Timestamp'"
     ]
    }
   ],
   "source": [
    "grp = pd.cut(df['datetime'], bins=[pd.Timestamp(2019, 1, 1), \n",
    "                               pd.Timestamp(2019, 6, 30), \n",
    "                               pd.Timestamp(2019, 12, 3)], labels=['pre', 'post'],\n",
    "      right=False)\n",
    "\n",
    "df.groupby([grp, 'name'])['tempmax'].agg(['mean','count']).reset_index()"
   ]
  },
  {
   "cell_type": "code",
   "execution_count": 36,
   "id": "e9178a80",
   "metadata": {},
   "outputs": [
    {
     "data": {
      "text/plain": [
       "nan"
      ]
     },
     "execution_count": 36,
     "metadata": {},
     "output_type": "execute_result"
    }
   ],
   "source": [
    "df[df[\"datetime\"].between('2019-01-01','2019-06-30',)][\"tempmax\"].mean()"
   ]
  }
 ],
 "metadata": {
  "kernelspec": {
   "display_name": "Python 3 (ipykernel)",
   "language": "python",
   "name": "python3"
  },
  "language_info": {
   "codemirror_mode": {
    "name": "ipython",
    "version": 3
   },
   "file_extension": ".py",
   "mimetype": "text/x-python",
   "name": "python",
   "nbconvert_exporter": "python",
   "pygments_lexer": "ipython3",
   "version": "3.9.7"
  }
 },
 "nbformat": 4,
 "nbformat_minor": 5
}
