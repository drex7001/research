{
 "cells": [
  {
   "cell_type": "code",
   "execution_count": 1,
   "id": "8caed64f",
   "metadata": {},
   "outputs": [],
   "source": [
    "import numpy as np\n",
    "import pandas as pd\n",
    "import seaborn as sns\n",
    "import os"
   ]
  },
  {
   "cell_type": "code",
   "execution_count": 6,
   "id": "b6495656",
   "metadata": {},
   "outputs": [
    {
     "data": {
      "text/plain": [
       "28490"
      ]
     },
     "execution_count": 6,
     "metadata": {},
     "output_type": "execute_result"
    }
   ],
   "source": [
    "missing_values = [\"0\"]\n",
    "df = pd.read_csv(\"Final.csv\",na_values=missing_values)\n",
    "len(df)\n",
    "# df.dropna(subset = [\"tempmax\",\"tempmin\",\"temp\",\"feelslikemax\",\"feelslikemin\",\"feelslike\",\"dew\",\"humidity\",\"windspeed\",\"winddir\",\"cloudcover\",\"winddir\",\"visibility\",\"moonphase\"], inplace=True)\n",
    "# df.isnull().sum()"
   ]
  },
  {
   "cell_type": "code",
   "execution_count": 4,
   "id": "9dbbea79",
   "metadata": {},
   "outputs": [
    {
     "data": {
      "text/plain": [
       "27002"
      ]
     },
     "execution_count": 4,
     "metadata": {},
     "output_type": "execute_result"
    }
   ],
   "source": [
    "len(df)"
   ]
  }
 ],
 "metadata": {
  "kernelspec": {
   "display_name": "Python 3 (ipykernel)",
   "language": "python",
   "name": "python3"
  },
  "language_info": {
   "codemirror_mode": {
    "name": "ipython",
    "version": 3
   },
   "file_extension": ".py",
   "mimetype": "text/x-python",
   "name": "python",
   "nbconvert_exporter": "python",
   "pygments_lexer": "ipython3",
   "version": "3.9.7"
  }
 },
 "nbformat": 4,
 "nbformat_minor": 5
}
