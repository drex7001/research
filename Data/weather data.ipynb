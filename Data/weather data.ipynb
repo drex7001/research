{
 "cells": [
  {
   "cell_type": "code",
   "execution_count": 1,
   "id": "4e639602",
   "metadata": {},
   "outputs": [],
   "source": [
    "import numpy as np\n",
    "import pandas as pd\n",
    "import seaborn as sns\n",
    "import os"
   ]
  },
  {
   "cell_type": "code",
   "execution_count": 2,
   "id": "87d34c6e",
   "metadata": {},
   "outputs": [
    {
     "name": "stdout",
     "output_type": "stream",
     "text": [
      "['Book3.xlsx', 'city name.csv', 'final final final.xlsx', 'New', 'ph.xlsx', 'Price report', 'Price.xlsx', 'Veg, Ext-Pro ((10 Years).xlsx', 'Vegetable data (10 Years).xlsx', 'wdata.csv', 'weather data - Copy - Copy.xlsx', 'weather data - Copy deleted rows.xlsx', 'weather data - Copy.csv', 'weather data - Copy.xlsx', 'weather data - final final final.xlsx', 'weather data.csv', 'weather data.ipynb']\n"
     ]
    }
   ],
   "source": [
    "print(os.listdir())"
   ]
  },
  {
   "cell_type": "code",
   "execution_count": 3,
   "id": "c99a347e",
   "metadata": {},
   "outputs": [
    {
     "name": "stdout",
     "output_type": "stream",
     "text": [
      "<class 'pandas.core.frame.DataFrame'>\n",
      "RangeIndex: 28490 entries, 0 to 28489\n",
      "Data columns (total 18 columns):\n",
      " #   Column            Non-Null Count  Dtype  \n",
      "---  ------            --------------  -----  \n",
      " 0   name              28490 non-null  object \n",
      " 1   datetime          28490 non-null  object \n",
      " 2   tempmax           28319 non-null  float64\n",
      " 3   tempmin           28287 non-null  float64\n",
      " 4   temp              28324 non-null  float64\n",
      " 5   feelslikemax      28313 non-null  float64\n",
      " 6   feelslikemin      28320 non-null  float64\n",
      " 7   feelslike         28324 non-null  float64\n",
      " 8   dew               28323 non-null  float64\n",
      " 9   humidity          28328 non-null  float64\n",
      " 10  precip            14260 non-null  float64\n",
      " 11  precipcover       15590 non-null  float64\n",
      " 12  windspeed         28135 non-null  float64\n",
      " 13  winddir           28256 non-null  float64\n",
      " 14  sealevelpressure  26103 non-null  float64\n",
      " 15  cloudcover        28165 non-null  float64\n",
      " 16  visibility        28328 non-null  float64\n",
      " 17  moonphase         27580 non-null  float64\n",
      "dtypes: float64(16), object(2)\n",
      "memory usage: 3.9+ MB\n"
     ]
    }
   ],
   "source": [
    "missing_values = [\"0\"]\n",
    "df = pd.read_csv(\"wdata.csv\",na_values=missing_values)\n",
    "df.info()"
   ]
  },
  {
   "cell_type": "code",
   "execution_count": 4,
   "id": "a7fa0fa4",
   "metadata": {},
   "outputs": [],
   "source": [
    "df = df.drop(columns=['precip', 'precipcover','sealevelpressure'])"
   ]
  },
  {
   "cell_type": "code",
   "execution_count": 5,
   "id": "1d3e388d",
   "metadata": {},
   "outputs": [
    {
     "data": {
      "text/plain": [
       "name              0\n",
       "datetime          0\n",
       "tempmax         171\n",
       "tempmin         203\n",
       "temp            166\n",
       "feelslikemax    177\n",
       "feelslikemin    170\n",
       "feelslike       166\n",
       "dew             167\n",
       "humidity        162\n",
       "windspeed       355\n",
       "winddir         234\n",
       "cloudcover      325\n",
       "visibility      162\n",
       "moonphase       910\n",
       "dtype: int64"
      ]
     },
     "execution_count": 5,
     "metadata": {},
     "output_type": "execute_result"
    }
   ],
   "source": [
    "df.isnull().sum()"
   ]
  },
  {
   "cell_type": "code",
   "execution_count": 6,
   "id": "b45705d6",
   "metadata": {},
   "outputs": [],
   "source": [
    "sns.heatmap(df.isnull(),yticklabels=False,annot=True)"
   ]
  },
  {
   "cell_type": "code",
   "execution_count": null,
   "id": "dc1a7036",
   "metadata": {},
   "outputs": [],
   "source": []
  },
  {
   "cell_type": "code",
   "execution_count": null,
   "id": "0ae68c06",
   "metadata": {},
   "outputs": [],
   "source": []
  }
 ],
 "metadata": {
  "interpreter": {
   "hash": "d21b42512f004c6c6d458885b40f850dd492a6716dc9a75b649a8f3a49fb148c"
  },
  "kernelspec": {
   "display_name": "Python 3.9.7 ('base')",
   "language": "python",
   "name": "python3"
  },
  "language_info": {
   "codemirror_mode": {
    "name": "ipython",
    "version": 3
   },
   "file_extension": ".py",
   "mimetype": "text/x-python",
   "name": "python",
   "nbconvert_exporter": "python",
   "pygments_lexer": "ipython3",
   "version": "3.9.7"
  }
 },
 "nbformat": 4,
 "nbformat_minor": 5
}
