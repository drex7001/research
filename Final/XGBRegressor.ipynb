{
 "cells": [
  {
   "cell_type": "code",
   "execution_count": 91,
   "id": "027bc996",
   "metadata": {},
   "outputs": [],
   "source": [
    "import pandas as pd\n",
    "import numpy as np\n",
    "import seaborn as sns\n",
    "import matplotlib.pyplot as plt\n",
    "from sklearn.model_selection import train_test_split\n",
    "from sklearn.preprocessing import StandardScaler\n",
    "from sklearn.preprocessing import LabelEncoder\n",
    "from sklearn import datasets\n",
    "from sklearn.model_selection import learning_curve\n",
    "import xgboost as xgb\n",
    "from sklearn.model_selection import cross_val_score, KFold\n",
    "from sklearn.metrics import mean_squared_error"
   ]
  },
  {
   "cell_type": "code",
   "execution_count": 92,
   "id": "bdccc572",
   "metadata": {},
   "outputs": [],
   "source": [
    "df = pd.read_csv(\"Book12.csv\")"
   ]
  },
  {
   "cell_type": "code",
   "execution_count": 93,
   "id": "5ce90b6f",
   "metadata": {},
   "outputs": [
    {
     "data": {
      "text/html": [
       "<div>\n",
       "<style scoped>\n",
       "    .dataframe tbody tr th:only-of-type {\n",
       "        vertical-align: middle;\n",
       "    }\n",
       "\n",
       "    .dataframe tbody tr th {\n",
       "        vertical-align: top;\n",
       "    }\n",
       "\n",
       "    .dataframe thead th {\n",
       "        text-align: right;\n",
       "    }\n",
       "</style>\n",
       "<table border=\"1\" class=\"dataframe\">\n",
       "  <thead>\n",
       "    <tr style=\"text-align: right;\">\n",
       "      <th></th>\n",
       "      <th>year</th>\n",
       "      <th>sem</th>\n",
       "      <th>city</th>\n",
       "      <th>humidity</th>\n",
       "      <th>winddir</th>\n",
       "      <th>tempmax</th>\n",
       "      <th>tempmin</th>\n",
       "      <th>temp</th>\n",
       "      <th>feelslikemax</th>\n",
       "      <th>dew</th>\n",
       "      <th>feelslike</th>\n",
       "      <th>feelslikemin</th>\n",
       "      <th>windspeed</th>\n",
       "      <th>visibility</th>\n",
       "      <th>moonphase</th>\n",
       "      <th>cloudcover</th>\n",
       "      <th>hec</th>\n",
       "      <th>production</th>\n",
       "    </tr>\n",
       "  </thead>\n",
       "  <tbody>\n",
       "    <tr>\n",
       "      <th>0</th>\n",
       "      <td>2009</td>\n",
       "      <td>1</td>\n",
       "      <td>0</td>\n",
       "      <td>77.208706</td>\n",
       "      <td>142.910588</td>\n",
       "      <td>30.314118</td>\n",
       "      <td>24.914118</td>\n",
       "      <td>27.862941</td>\n",
       "      <td>35.094118</td>\n",
       "      <td>23.321765</td>\n",
       "      <td>31.041176</td>\n",
       "      <td>25.493529</td>\n",
       "      <td>8.364118</td>\n",
       "      <td>19.768235</td>\n",
       "      <td>0.529706</td>\n",
       "      <td>48.948824</td>\n",
       "      <td>381</td>\n",
       "      <td>3628</td>\n",
       "    </tr>\n",
       "    <tr>\n",
       "      <th>1</th>\n",
       "      <td>2009</td>\n",
       "      <td>1</td>\n",
       "      <td>1</td>\n",
       "      <td>76.983765</td>\n",
       "      <td>153.231177</td>\n",
       "      <td>30.619412</td>\n",
       "      <td>24.499412</td>\n",
       "      <td>27.540588</td>\n",
       "      <td>34.736471</td>\n",
       "      <td>22.765294</td>\n",
       "      <td>29.867647</td>\n",
       "      <td>24.797647</td>\n",
       "      <td>6.389412</td>\n",
       "      <td>16.625882</td>\n",
       "      <td>0.527059</td>\n",
       "      <td>48.827059</td>\n",
       "      <td>523</td>\n",
       "      <td>3892</td>\n",
       "    </tr>\n",
       "    <tr>\n",
       "      <th>2</th>\n",
       "      <td>2009</td>\n",
       "      <td>1</td>\n",
       "      <td>2</td>\n",
       "      <td>77.996588</td>\n",
       "      <td>210.491765</td>\n",
       "      <td>26.628824</td>\n",
       "      <td>16.753529</td>\n",
       "      <td>21.621765</td>\n",
       "      <td>27.669412</td>\n",
       "      <td>17.192353</td>\n",
       "      <td>21.967059</td>\n",
       "      <td>16.752353</td>\n",
       "      <td>8.430588</td>\n",
       "      <td>17.942353</td>\n",
       "      <td>0.528882</td>\n",
       "      <td>52.427647</td>\n",
       "      <td>460</td>\n",
       "      <td>3770</td>\n",
       "    </tr>\n",
       "    <tr>\n",
       "      <th>3</th>\n",
       "      <td>2009</td>\n",
       "      <td>1</td>\n",
       "      <td>3</td>\n",
       "      <td>77.824479</td>\n",
       "      <td>132.336810</td>\n",
       "      <td>30.842331</td>\n",
       "      <td>25.957055</td>\n",
       "      <td>28.476687</td>\n",
       "      <td>36.906748</td>\n",
       "      <td>24.065644</td>\n",
       "      <td>32.544172</td>\n",
       "      <td>27.247853</td>\n",
       "      <td>9.525767</td>\n",
       "      <td>20.000000</td>\n",
       "      <td>0.526994</td>\n",
       "      <td>44.647853</td>\n",
       "      <td>142</td>\n",
       "      <td>639</td>\n",
       "    </tr>\n",
       "    <tr>\n",
       "      <th>4</th>\n",
       "      <td>2009</td>\n",
       "      <td>1</td>\n",
       "      <td>25</td>\n",
       "      <td>75.642557</td>\n",
       "      <td>172.565341</td>\n",
       "      <td>31.246591</td>\n",
       "      <td>24.432386</td>\n",
       "      <td>27.700568</td>\n",
       "      <td>36.069318</td>\n",
       "      <td>22.744318</td>\n",
       "      <td>30.566477</td>\n",
       "      <td>25.180114</td>\n",
       "      <td>20.609091</td>\n",
       "      <td>12.073864</td>\n",
       "      <td>0.521761</td>\n",
       "      <td>45.026136</td>\n",
       "      <td>30</td>\n",
       "      <td>423</td>\n",
       "    </tr>\n",
       "    <tr>\n",
       "      <th>5</th>\n",
       "      <td>2009</td>\n",
       "      <td>1</td>\n",
       "      <td>4</td>\n",
       "      <td>81.492611</td>\n",
       "      <td>203.768790</td>\n",
       "      <td>11.482166</td>\n",
       "      <td>3.991720</td>\n",
       "      <td>7.675159</td>\n",
       "      <td>9.991720</td>\n",
       "      <td>4.343312</td>\n",
       "      <td>5.459236</td>\n",
       "      <td>0.843949</td>\n",
       "      <td>26.100000</td>\n",
       "      <td>9.219108</td>\n",
       "      <td>0.518854</td>\n",
       "      <td>54.048408</td>\n",
       "      <td>30</td>\n",
       "      <td>423</td>\n",
       "    </tr>\n",
       "    <tr>\n",
       "      <th>6</th>\n",
       "      <td>2009</td>\n",
       "      <td>1</td>\n",
       "      <td>5</td>\n",
       "      <td>78.075172</td>\n",
       "      <td>177.028161</td>\n",
       "      <td>23.912644</td>\n",
       "      <td>15.386207</td>\n",
       "      <td>19.507471</td>\n",
       "      <td>23.968391</td>\n",
       "      <td>15.239080</td>\n",
       "      <td>19.533333</td>\n",
       "      <td>15.386207</td>\n",
       "      <td>9.295402</td>\n",
       "      <td>17.809770</td>\n",
       "      <td>0.521839</td>\n",
       "      <td>54.884483</td>\n",
       "      <td>30</td>\n",
       "      <td>423</td>\n",
       "    </tr>\n",
       "    <tr>\n",
       "      <th>7</th>\n",
       "      <td>2009</td>\n",
       "      <td>1</td>\n",
       "      <td>6</td>\n",
       "      <td>82.071420</td>\n",
       "      <td>202.193491</td>\n",
       "      <td>29.782840</td>\n",
       "      <td>25.335503</td>\n",
       "      <td>27.446154</td>\n",
       "      <td>35.277515</td>\n",
       "      <td>23.988166</td>\n",
       "      <td>30.533728</td>\n",
       "      <td>26.039053</td>\n",
       "      <td>20.427219</td>\n",
       "      <td>23.910059</td>\n",
       "      <td>0.524615</td>\n",
       "      <td>57.239053</td>\n",
       "      <td>231</td>\n",
       "      <td>1635</td>\n",
       "    </tr>\n",
       "    <tr>\n",
       "      <th>8</th>\n",
       "      <td>2009</td>\n",
       "      <td>1</td>\n",
       "      <td>7</td>\n",
       "      <td>74.068598</td>\n",
       "      <td>167.715244</td>\n",
       "      <td>30.445122</td>\n",
       "      <td>27.609756</td>\n",
       "      <td>29.173780</td>\n",
       "      <td>36.021341</td>\n",
       "      <td>23.906707</td>\n",
       "      <td>33.881707</td>\n",
       "      <td>31.065244</td>\n",
       "      <td>13.995732</td>\n",
       "      <td>19.825610</td>\n",
       "      <td>0.526707</td>\n",
       "      <td>51.249390</td>\n",
       "      <td>325</td>\n",
       "      <td>4692</td>\n",
       "    </tr>\n",
       "    <tr>\n",
       "      <th>9</th>\n",
       "      <td>2009</td>\n",
       "      <td>1</td>\n",
       "      <td>8</td>\n",
       "      <td>75.664205</td>\n",
       "      <td>174.212500</td>\n",
       "      <td>31.246023</td>\n",
       "      <td>24.415341</td>\n",
       "      <td>27.690341</td>\n",
       "      <td>36.006818</td>\n",
       "      <td>22.739205</td>\n",
       "      <td>30.522727</td>\n",
       "      <td>25.143750</td>\n",
       "      <td>20.605114</td>\n",
       "      <td>11.402841</td>\n",
       "      <td>0.521761</td>\n",
       "      <td>45.040341</td>\n",
       "      <td>129</td>\n",
       "      <td>835</td>\n",
       "    </tr>\n",
       "  </tbody>\n",
       "</table>\n",
       "</div>"
      ],
      "text/plain": [
       "   year  sem  city   humidity     winddir    tempmax    tempmin       temp  \\\n",
       "0  2009    1     0  77.208706  142.910588  30.314118  24.914118  27.862941   \n",
       "1  2009    1     1  76.983765  153.231177  30.619412  24.499412  27.540588   \n",
       "2  2009    1     2  77.996588  210.491765  26.628824  16.753529  21.621765   \n",
       "3  2009    1     3  77.824479  132.336810  30.842331  25.957055  28.476687   \n",
       "4  2009    1    25  75.642557  172.565341  31.246591  24.432386  27.700568   \n",
       "5  2009    1     4  81.492611  203.768790  11.482166   3.991720   7.675159   \n",
       "6  2009    1     5  78.075172  177.028161  23.912644  15.386207  19.507471   \n",
       "7  2009    1     6  82.071420  202.193491  29.782840  25.335503  27.446154   \n",
       "8  2009    1     7  74.068598  167.715244  30.445122  27.609756  29.173780   \n",
       "9  2009    1     8  75.664205  174.212500  31.246023  24.415341  27.690341   \n",
       "\n",
       "   feelslikemax        dew  feelslike  feelslikemin  windspeed  visibility  \\\n",
       "0     35.094118  23.321765  31.041176     25.493529   8.364118   19.768235   \n",
       "1     34.736471  22.765294  29.867647     24.797647   6.389412   16.625882   \n",
       "2     27.669412  17.192353  21.967059     16.752353   8.430588   17.942353   \n",
       "3     36.906748  24.065644  32.544172     27.247853   9.525767   20.000000   \n",
       "4     36.069318  22.744318  30.566477     25.180114  20.609091   12.073864   \n",
       "5      9.991720   4.343312   5.459236      0.843949  26.100000    9.219108   \n",
       "6     23.968391  15.239080  19.533333     15.386207   9.295402   17.809770   \n",
       "7     35.277515  23.988166  30.533728     26.039053  20.427219   23.910059   \n",
       "8     36.021341  23.906707  33.881707     31.065244  13.995732   19.825610   \n",
       "9     36.006818  22.739205  30.522727     25.143750  20.605114   11.402841   \n",
       "\n",
       "   moonphase  cloudcover  hec  production  \n",
       "0   0.529706   48.948824  381        3628  \n",
       "1   0.527059   48.827059  523        3892  \n",
       "2   0.528882   52.427647  460        3770  \n",
       "3   0.526994   44.647853  142         639  \n",
       "4   0.521761   45.026136   30         423  \n",
       "5   0.518854   54.048408   30         423  \n",
       "6   0.521839   54.884483   30         423  \n",
       "7   0.524615   57.239053  231        1635  \n",
       "8   0.526707   51.249390  325        4692  \n",
       "9   0.521761   45.040341  129         835  "
      ]
     },
     "execution_count": 93,
     "metadata": {},
     "output_type": "execute_result"
    }
   ],
   "source": [
    "enc = LabelEncoder()\n",
    "enc.fit(df['city'])\n",
    "df['city'] = enc.transform(df['city'])\n",
    "df.head(10)"
   ]
  },
  {
   "cell_type": "code",
   "execution_count": 94,
   "id": "1ef56f16",
   "metadata": {},
   "outputs": [],
   "source": [
    "df=df.dropna().reset_index(drop=True)"
   ]
  },
  {
   "cell_type": "code",
   "execution_count": 95,
   "id": "91a217d4",
   "metadata": {},
   "outputs": [],
   "source": [
    "X = df[['city', 'sem','tempmax','tempmin','temp','feelslikemax','feelslikemin','feelslike','dew','humidity','windspeed','moonphase','cloudcover','visibility','winddir','hec']].values\n",
    "\n",
    "y = df['production'].values"
   ]
  },
  {
   "cell_type": "code",
   "execution_count": 96,
   "id": "3e554af2",
   "metadata": {},
   "outputs": [],
   "source": [
    "X = df[['city', 'sem','tempmax','tempmin','temp','feelslikemax','feelslikemin','feelslike','dew','humidity','windspeed','moonphase','cloudcover','visibility','winddir','hec']].values\n",
    "\n",
    "y = df['production'].values\n",
    "\n",
    "X_train, X_test, y_train, y_test = train_test_split(X,y,test_size=0.5)"
   ]
  },
  {
   "cell_type": "code",
   "execution_count": 97,
   "id": "1271fd78",
   "metadata": {},
   "outputs": [
    {
     "name": "stdout",
     "output_type": "stream",
     "text": [
      "XGBRegressor(base_score=None, booster=None, callbacks=None,\n",
      "             colsample_bylevel=None, colsample_bynode=None,\n",
      "             colsample_bytree=None, early_stopping_rounds=None,\n",
      "             enable_categorical=False, eval_metric=None, gamma=None,\n",
      "             gpu_id=None, grow_policy=None, importance_type=None,\n",
      "             interaction_constraints=None, learning_rate=None, max_bin=None,\n",
      "             max_cat_to_onehot=None, max_delta_step=None, max_depth=None,\n",
      "             max_leaves=None, min_child_weight=None, missing=nan,\n",
      "             monotone_constraints=None, n_estimators=100, n_jobs=None,\n",
      "             num_parallel_tree=None, predictor=None, random_state=None,\n",
      "             reg_alpha=None, reg_lambda=None, ...)\n"
     ]
    }
   ],
   "source": [
    "xgbr = xgb.XGBRegressor(verbosity=0) \n",
    "print(xgbr)"
   ]
  },
  {
   "cell_type": "code",
   "execution_count": 98,
   "id": "7219a13f",
   "metadata": {},
   "outputs": [
    {
     "data": {
      "text/plain": [
       "XGBRegressor(base_score=0.5, booster='gbtree', callbacks=None,\n",
       "             colsample_bylevel=1, colsample_bynode=1, colsample_bytree=1,\n",
       "             early_stopping_rounds=None, enable_categorical=False,\n",
       "             eval_metric=None, gamma=0, gpu_id=-1, grow_policy='depthwise',\n",
       "             importance_type=None, interaction_constraints='',\n",
       "             learning_rate=0.300000012, max_bin=256, max_cat_to_onehot=4,\n",
       "             max_delta_step=0, max_depth=6, max_leaves=0, min_child_weight=1,\n",
       "             missing=nan, monotone_constraints='()', n_estimators=100, n_jobs=0,\n",
       "             num_parallel_tree=1, predictor='auto', random_state=0, reg_alpha=0,\n",
       "             reg_lambda=1, ...)"
      ]
     },
     "execution_count": 98,
     "metadata": {},
     "output_type": "execute_result"
    }
   ],
   "source": [
    "xgbr.fit(X_train, y_train)"
   ]
  },
  {
   "cell_type": "code",
   "execution_count": 99,
   "id": "7d64bb16",
   "metadata": {},
   "outputs": [
    {
     "name": "stdout",
     "output_type": "stream",
     "text": [
      "Training score:  0.9999999820166514\n"
     ]
    }
   ],
   "source": [
    "score = xgbr.score(X_train, y_train)  \n",
    "print(\"Training score: \", score)"
   ]
  },
  {
   "cell_type": "code",
   "execution_count": 100,
   "id": "cda76588",
   "metadata": {},
   "outputs": [
    {
     "name": "stdout",
     "output_type": "stream",
     "text": [
      "Mean cross-validation score: 0.66\n"
     ]
    }
   ],
   "source": [
    "scores = cross_val_score(xgbr, X_train, y_train,cv=10)\n",
    "print(\"Mean cross-validation score: %.2f\" % scores.mean())"
   ]
  },
  {
   "cell_type": "code",
   "execution_count": 101,
   "id": "59952ef5",
   "metadata": {},
   "outputs": [
    {
     "name": "stdout",
     "output_type": "stream",
     "text": [
      "K-fold CV average score: 0.76\n"
     ]
    }
   ],
   "source": [
    "kfold = KFold(n_splits=10, shuffle=True)\n",
    "kf_cv_scores = cross_val_score(xgbr, X_train, y_train, cv=kfold )\n",
    "print(\"K-fold CV average score: %.2f\" % kf_cv_scores.mean())"
   ]
  },
  {
   "cell_type": "code",
   "execution_count": 102,
   "id": "5eddd33d",
   "metadata": {},
   "outputs": [
    {
     "name": "stdout",
     "output_type": "stream",
     "text": [
      "MSE: 718709.08\n"
     ]
    }
   ],
   "source": [
    "y_pred = xgbr.predict(X_test)\n",
    "mse = mean_squared_error(y_test, y_pred)\n",
    "print(\"MSE: %.2f\" % mse)"
   ]
  },
  {
   "cell_type": "code",
   "execution_count": 103,
   "id": "57f16604",
   "metadata": {},
   "outputs": [
    {
     "data": {
      "image/png": "[encoded data removed]",
      "text/plain": [
       "<Figure size 432x288 with 1 Axes>"
      ]
     },
     "metadata": {
      "needs_background": "light"
     },
     "output_type": "display_data"
    }
   ],
   "source": [
    "x_ax = range(len(y_test))\n",
    "plt.plot(x_ax, y_test, label=\"original\")\n",
    "plt.plot(x_ax, y_pred, label=\"predicted\")\n",
    "plt.title(\"Crop yield test and predicted data\")\n",
    "plt.legend()\n",
    "plt.show()"
   ]
  }
 ],
 "metadata": {
  "kernelspec": {
   "display_name": "Python 3 (ipykernel)",
   "language": "python",
   "name": "python3"
  },
  "language_info": {
   "codemirror_mode": {
    "name": "ipython",
    "version": 3
   },
   "file_extension": ".py",
   "mimetype": "text/x-python",
   "name": "python",
   "nbconvert_exporter": "python",
   "pygments_lexer": "ipython3",
   "version": "3.9.7"
  }
 },
 "nbformat": 4,
 "nbformat_minor": 5
}
