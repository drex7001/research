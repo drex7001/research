{
 "cells": [
  {
   "cell_type": "code",
   "execution_count": null,
   "id": "4af2b1f8",
   "metadata": {},
   "outputs": [],
   "source": []
  },
  {
   "cell_type": "code",
   "execution_count": null,
   "id": "6c70b498",
   "metadata": {},
   "outputs": [],
   "source": []
  },
  {
   "cell_type": "code",
   "execution_count": 1,
   "id": "d48d6c86",
   "metadata": {},
   "outputs": [
    {
     "ename": "ModuleNotFoundError",
     "evalue": "No module named 'neuralprophet'",
     "output_type": "error",
     "traceback": [
      "\u001b[1;31m---------------------------------------------------------------------------\u001b[0m",
      "\u001b[1;31mModuleNotFoundError\u001b[0m                       Traceback (most recent call last)",
      "\u001b[1;32m~\\AppData\\Local\\Temp/ipykernel_21296/2842835307.py\u001b[0m in \u001b[0;36m<module>\u001b[1;34m\u001b[0m\n\u001b[0;32m      1\u001b[0m \u001b[1;32mimport\u001b[0m \u001b[0mpandas\u001b[0m \u001b[1;32mas\u001b[0m \u001b[0mpd\u001b[0m\u001b[1;33m\u001b[0m\u001b[1;33m\u001b[0m\u001b[0m\n\u001b[1;32m----> 2\u001b[1;33m \u001b[1;32mfrom\u001b[0m \u001b[0mneuralprophet\u001b[0m \u001b[1;32mimport\u001b[0m \u001b[0mNeuralProphet\u001b[0m\u001b[1;33m\u001b[0m\u001b[1;33m\u001b[0m\u001b[0m\n\u001b[0m\u001b[0;32m      3\u001b[0m \u001b[1;32mfrom\u001b[0m \u001b[0mmatplotlib\u001b[0m \u001b[1;32mimport\u001b[0m \u001b[0mpyplot\u001b[0m \u001b[1;32mas\u001b[0m \u001b[0mplt\u001b[0m\u001b[1;33m\u001b[0m\u001b[1;33m\u001b[0m\u001b[0m\n\u001b[0;32m      4\u001b[0m \u001b[1;32mimport\u001b[0m \u001b[0mpickle\u001b[0m\u001b[1;33m\u001b[0m\u001b[1;33m\u001b[0m\u001b[0m\n\u001b[0;32m      5\u001b[0m \u001b[1;32mimport\u001b[0m \u001b[0mseaborn\u001b[0m \u001b[1;32mas\u001b[0m \u001b[0msns\u001b[0m\u001b[1;33m\u001b[0m\u001b[1;33m\u001b[0m\u001b[0m\n",
      "\u001b[1;31mModuleNotFoundError\u001b[0m: No module named 'neuralprophet'"
     ]
    }
   ],
   "source": [
    "import pandas as pd\n",
    "from neuralprophet import NeuralProphet\n",
    "from matplotlib import pyplot as plt\n",
    "import pickle\n",
    "import seaborn as sns"
   ]
  },
  {
   "cell_type": "code",
   "execution_count": 4,
   "id": "55603f1b",
   "metadata": {},
   "outputs": [
    {
     "data": {
      "text/html": [
       "<div>\n",
       "<style scoped>\n",
       "    .dataframe tbody tr th:only-of-type {\n",
       "        vertical-align: middle;\n",
       "    }\n",
       "\n",
       "    .dataframe tbody tr th {\n",
       "        vertical-align: top;\n",
       "    }\n",
       "\n",
       "    .dataframe thead th {\n",
       "        text-align: right;\n",
       "    }\n",
       "</style>\n",
       "<table border=\"1\" class=\"dataframe\">\n",
       "  <thead>\n",
       "    <tr style=\"text-align: right;\">\n",
       "      <th></th>\n",
       "      <th>name</th>\n",
       "      <th>datetime</th>\n",
       "      <th>tempmax</th>\n",
       "      <th>tempmin</th>\n",
       "      <th>temp</th>\n",
       "      <th>feelslikemax</th>\n",
       "      <th>feelslikemin</th>\n",
       "      <th>feelslike</th>\n",
       "      <th>dew</th>\n",
       "      <th>humidity</th>\n",
       "      <th>windspeed</th>\n",
       "      <th>winddir</th>\n",
       "      <th>sealevelpressure</th>\n",
       "      <th>cloudcover</th>\n",
       "      <th>visibility</th>\n",
       "      <th>moonphase</th>\n",
       "    </tr>\n",
       "  </thead>\n",
       "  <tbody>\n",
       "    <tr>\n",
       "      <th>90043</th>\n",
       "      <td>Galle</td>\n",
       "      <td>12/27/2018</td>\n",
       "      <td>7.0</td>\n",
       "      <td>3.0</td>\n",
       "      <td>4.7</td>\n",
       "      <td>3.8</td>\n",
       "      <td>-0.3</td>\n",
       "      <td>1.6</td>\n",
       "      <td>1.7</td>\n",
       "      <td>81.51</td>\n",
       "      <td>22.3</td>\n",
       "      <td>243.5</td>\n",
       "      <td>NaN</td>\n",
       "      <td>44.7</td>\n",
       "      <td>9.9</td>\n",
       "      <td>0.650</td>\n",
       "    </tr>\n",
       "    <tr>\n",
       "      <th>90044</th>\n",
       "      <td>Galle</td>\n",
       "      <td>12/28/2018</td>\n",
       "      <td>5.0</td>\n",
       "      <td>1.0</td>\n",
       "      <td>3.3</td>\n",
       "      <td>1.0</td>\n",
       "      <td>-3.7</td>\n",
       "      <td>-0.7</td>\n",
       "      <td>1.6</td>\n",
       "      <td>89.01</td>\n",
       "      <td>27.7</td>\n",
       "      <td>251.3</td>\n",
       "      <td>NaN</td>\n",
       "      <td>87.6</td>\n",
       "      <td>7.5</td>\n",
       "      <td>0.700</td>\n",
       "    </tr>\n",
       "    <tr>\n",
       "      <th>90045</th>\n",
       "      <td>Galle</td>\n",
       "      <td>12/30/2018</td>\n",
       "      <td>7.0</td>\n",
       "      <td>5.0</td>\n",
       "      <td>6.2</td>\n",
       "      <td>3.2</td>\n",
       "      <td>-0.6</td>\n",
       "      <td>1.6</td>\n",
       "      <td>3.8</td>\n",
       "      <td>85.29</td>\n",
       "      <td>42.5</td>\n",
       "      <td>285.8</td>\n",
       "      <td>NaN</td>\n",
       "      <td>86.2</td>\n",
       "      <td>9.7</td>\n",
       "      <td>0.810</td>\n",
       "    </tr>\n",
       "    <tr>\n",
       "      <th>90046</th>\n",
       "      <td>Galle</td>\n",
       "      <td>12/31/2018</td>\n",
       "      <td>7.0</td>\n",
       "      <td>5.0</td>\n",
       "      <td>6.2</td>\n",
       "      <td>5.2</td>\n",
       "      <td>2.8</td>\n",
       "      <td>3.9</td>\n",
       "      <td>5.5</td>\n",
       "      <td>95.33</td>\n",
       "      <td>14.8</td>\n",
       "      <td>261.3</td>\n",
       "      <td>NaN</td>\n",
       "      <td>95.0</td>\n",
       "      <td>7.8</td>\n",
       "      <td>0.860</td>\n",
       "    </tr>\n",
       "    <tr>\n",
       "      <th>90047</th>\n",
       "      <td>Galle</td>\n",
       "      <td>1/1/2019</td>\n",
       "      <td>8.0</td>\n",
       "      <td>2.0</td>\n",
       "      <td>6.3</td>\n",
       "      <td>4.3</td>\n",
       "      <td>-5.2</td>\n",
       "      <td>1.4</td>\n",
       "      <td>3.8</td>\n",
       "      <td>84.05</td>\n",
       "      <td>48.3</td>\n",
       "      <td>264.4</td>\n",
       "      <td>NaN</td>\n",
       "      <td>70.2</td>\n",
       "      <td>9.4</td>\n",
       "      <td>0.911</td>\n",
       "    </tr>\n",
       "  </tbody>\n",
       "</table>\n",
       "</div>"
      ],
      "text/plain": [
       "        name    datetime  tempmax  tempmin  temp  feelslikemax  feelslikemin  \\\n",
       "90043  Galle  12/27/2018      7.0      3.0   4.7           3.8          -0.3   \n",
       "90044  Galle  12/28/2018      5.0      1.0   3.3           1.0          -3.7   \n",
       "90045  Galle  12/30/2018      7.0      5.0   6.2           3.2          -0.6   \n",
       "90046  Galle  12/31/2018      7.0      5.0   6.2           5.2           2.8   \n",
       "90047  Galle    1/1/2019      8.0      2.0   6.3           4.3          -5.2   \n",
       "\n",
       "       feelslike  dew  humidity  windspeed  winddir  sealevelpressure  \\\n",
       "90043        1.6  1.7     81.51       22.3    243.5               NaN   \n",
       "90044       -0.7  1.6     89.01       27.7    251.3               NaN   \n",
       "90045        1.6  3.8     85.29       42.5    285.8               NaN   \n",
       "90046        3.9  5.5     95.33       14.8    261.3               NaN   \n",
       "90047        1.4  3.8     84.05       48.3    264.4               NaN   \n",
       "\n",
       "       cloudcover  visibility  moonphase  \n",
       "90043        44.7         9.9      0.650  \n",
       "90044        87.6         7.5      0.700  \n",
       "90045        86.2         9.7      0.810  \n",
       "90046        95.0         7.8      0.860  \n",
       "90047        70.2         9.4      0.911  "
      ]
     },
     "execution_count": 4,
     "metadata": {},
     "output_type": "execute_result"
    }
   ],
   "source": [
    "df = pd.read_csv('weather_all.csv')\n",
    "df.tail()"
   ]
  },
  {
   "cell_type": "code",
   "execution_count": 9,
   "id": "61d354a2",
   "metadata": {},
   "outputs": [
    {
     "name": "stdout",
     "output_type": "stream",
     "text": [
      "['Polonnaruwa' 'Jaffna' 'Matara' 'Ratnapura' \"Mahaweli'h'\" 'Ampara'\n",
      " 'Nuwaraeliya' 'Puttalam' 'Anuradhapura' 'Batticaloa' 'Matale'\n",
      " 'Moneragala' 'Kandy' 'Hambantota' 'Gampaha' 'Kurunegala' 'colombo'\n",
      " 'Vavuniya' 'Trincomalee' 'Mullativu' 'Mannar' 'Kalutara' 'Badulla'\n",
      " 'Kilinochchi' 'Kegalle' 'Galle']\n"
     ]
    }
   ],
   "source": [
    "print(df.name.unique())"
   ]
  },
  {
   "cell_type": "code",
   "execution_count": 7,
   "id": "00f8194d",
   "metadata": {},
   "outputs": [
    {
     "data": {
      "text/plain": [
       "Index(['name', 'datetime', 'tempmax', 'tempmin', 'temp', 'feelslikemax',\n",
       "       'feelslikemin', 'feelslike', 'dew', 'humidity', 'windspeed', 'winddir',\n",
       "       'sealevelpressure', 'cloudcover', 'visibility', 'moonphase'],\n",
       "      dtype='object')"
      ]
     },
     "execution_count": 7,
     "metadata": {},
     "output_type": "execute_result"
    }
   ],
   "source": [
    "df.columns"
   ]
  },
  {
   "cell_type": "code",
   "execution_count": 5,
   "id": "fad2d753",
   "metadata": {},
   "outputs": [
    {
     "name": "stderr",
     "output_type": "stream",
     "text": [
      "WARNING - (py.warnings._showwarnmsg) - C:\\Users\\ayodh\\anaconda3\\lib\\site-packages\\seaborn\\distributions.py:2619: FutureWarning: `distplot` is a deprecated function and will be removed in a future version. Please adapt your code to use either `displot` (a figure-level function with similar flexibility) or `histplot` (an axes-level function for histograms).\n",
      "  warnings.warn(msg, FutureWarning)\n",
      "\n"
     ]
    },
    {
     "data": {
      "image/png": "[encoded data removed]",
      "text/plain": [
       "<Figure size 432x288 with 1 Axes>"
      ]
     },
     "metadata": {
      "needs_background": "light"
     },
     "output_type": "display_data"
    }
   ],
   "source": [
    "ax = sns.distplot(df['tempmax'])"
   ]
  },
  {
   "cell_type": "code",
   "execution_count": null,
   "id": "a22d4dfd",
   "metadata": {},
   "outputs": [],
   "source": [
    "district = []\n",
    "for(city in df.name.unique()):\n",
    "    district['city'] = df[df['name']== df.name.unique()]\n",
    "    district['datetime'] = pd.to_datetime(Polonnaruwa['datetime'])\n",
    "    for(col in df.columns):\n",
    "        district['Year'] = district['datetime'].apply(lambda x: x.year)\n",
    "        district = district[district['Year']<=2019]\n",
    "        plt.plot(district['datetime'], district[col])\n",
    "        data = district[['datetime', 'tempmax']] \n",
    "        data.dropna(inplace=True)\n",
    "        data.columns = ['ds', 'y'] \n",
    "        \n",
    "        \n",
    "    \n",
    "\n",
    "Polonnaruwa = df[df['name']=='Polonnaruwa']\n",
    "Polonnaruwa['datetime'] = pd.to_datetime(Polonnaruwa['datetime'])\n",
    "Polonnaruwa.head()\n",
    "\n",
    "plt.plot(Polonnaruwa['datetime'], Polonnaruwa['tempmax'])\n",
    "plt.show()\n",
    "\n",
    "\n",
    "Polonnaruwa['Year'] = Polonnaruwa['datetime'].apply(lambda x: x.year)\n",
    "Polonnaruwa = Polonnaruwa[Polonnaruwa['Year']<=2019]\n",
    "plt.plot(Polonnaruwa['datetime'], Polonnaruwa['tempmax'])\n",
    "plt.show()\n",
    "\n",
    "\n",
    "data = Polonnaruwa[['datetime', 'tempmax']] \n",
    "data.dropna(inplace=True)\n",
    "data.columns = ['ds', 'y'] \n",
    "data.head()\n",
    "\n",
    "m = NeuralProphet()\n",
    "\n",
    "model = m.fit(data, freq='D')\n",
    "\n",
    "\n",
    "future = m.make_future_dataframe(data, periods=1200)\n",
    "forecast = m.predict(future)\n",
    "forecast.head()\n",
    "\n",
    "plt2 = m.plot_components(forecast)\n",
    "\n",
    "\n",
    "with open('saved_model.pkl', \"wb\") as f:\n",
    "    pickle.dump(m, f)\n",
    "    \n",
    "    \n",
    "    with open('saved_model.pkl', \"rb\") as f:\n",
    "    m = pickle.load(f)\n",
    "    \n",
    "    \n",
    "future = m.make_future_dataframe(data, periods=900)\n",
    "forecast = m.predict(future)\n",
    "forecast.head()"
   ]
  }
 ],
 "metadata": {
  "kernelspec": {
   "display_name": "Python 3 (ipykernel)",
   "language": "python",
   "name": "python3"
  },
  "language_info": {
   "codemirror_mode": {
    "name": "ipython",
    "version": 3
   },
   "file_extension": ".py",
   "mimetype": "text/x-python",
   "name": "python",
   "nbconvert_exporter": "python",
   "pygments_lexer": "ipython3",
   "version": "3.9.7"
  }
 },
 "nbformat": 4,
 "nbformat_minor": 5
}
