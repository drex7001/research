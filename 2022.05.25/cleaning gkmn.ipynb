{
 "cells": [
  {
   "cell_type": "code",
   "execution_count": 1,
   "id": "b79c02be",
   "metadata": {},
   "outputs": [],
   "source": [
    "import numpy as np\n",
    "import pandas as pd\n",
    "import seaborn as sns\n",
    "import os"
   ]
  },
  {
   "cell_type": "code",
   "execution_count": 2,
   "id": "63da42fa",
   "metadata": {},
   "outputs": [
    {
     "data": {
      "text/plain": [
       "name                0\n",
       "datetime            0\n",
       "tempmax             0\n",
       "tempmin             0\n",
       "temp                0\n",
       "feelslikemax        0\n",
       "feelslikemin        0\n",
       "feelslike           0\n",
       "dew                 0\n",
       "humidity            0\n",
       "windspeed           0\n",
       "winddir             0\n",
       "sealevelpressure    0\n",
       "cloudcover          0\n",
       "visibility          0\n",
       "dtype: int64"
      ]
     },
     "execution_count": 2,
     "metadata": {},
     "output_type": "execute_result"
    }
   ],
   "source": [
    "missing_values = [\"0\"]\n",
    "df = pd.read_csv(\"gkmn.csv\",na_values=missing_values)\n",
    "df.dropna(subset = [\"temp\",\"feelslike\",\"tempmax\",\"tempmin\",\"windspeed\",\"cloudcover\",\"dew\",\"winddir\",\"feelslikemax\",\"feelslikemin\",\"sealevelpressure\"], inplace=True)\n",
    "df.isnull().sum()"
   ]
  },
  {
   "cell_type": "code",
   "execution_count": 3,
   "id": "0006b547",
   "metadata": {},
   "outputs": [],
   "source": [
    "df.to_csv(r'C:\\Users\\ayodh\\OneDrive\\Desktop\\DATA\\gkmn_2.csv', index=False)"
   ]
  }
 ],
 "metadata": {
  "kernelspec": {
   "display_name": "Python 3 (ipykernel)",
   "language": "python",
   "name": "python3"
  },
  "language_info": {
   "codemirror_mode": {
    "name": "ipython",
    "version": 3
   },
   "file_extension": ".py",
   "mimetype": "text/x-python",
   "name": "python",
   "nbconvert_exporter": "python",
   "pygments_lexer": "ipython3",
   "version": "3.9.7"
  }
 },
 "nbformat": 4,
 "nbformat_minor": 5
}
