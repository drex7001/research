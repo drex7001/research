{
 "cells": [
  {
   "cell_type": "code",
   "execution_count": 38,
   "id": "5825698d",
   "metadata": {},
   "outputs": [],
   "source": [
    "import pandas as pd\n",
    "import numpy as np\n",
    "import seaborn as sns\n",
    "import matplotlib.pyplot as plt\n",
    "import matplotlib as mpl"
   ]
  },
  {
   "cell_type": "code",
   "execution_count": 39,
   "id": "9c33a84e",
   "metadata": {},
   "outputs": [
    {
     "name": "stdout",
     "output_type": "stream",
     "text": [
      "(120, 16)\n"
     ]
    }
   ],
   "source": [
    "train = pd.read_csv(\"final_final_2.csv\")\n",
    "print(train.shape)"
   ]
  },
  {
   "cell_type": "code",
   "execution_count": 40,
   "id": "8953dda7",
   "metadata": {},
   "outputs": [
    {
     "data": {
      "text/html": [
       "<div>\n",
       "<style scoped>\n",
       "    .dataframe tbody tr th:only-of-type {\n",
       "        vertical-align: middle;\n",
       "    }\n",
       "\n",
       "    .dataframe tbody tr th {\n",
       "        vertical-align: top;\n",
       "    }\n",
       "\n",
       "    .dataframe thead th {\n",
       "        text-align: right;\n",
       "    }\n",
       "</style>\n",
       "<table border=\"1\" class=\"dataframe\">\n",
       "  <thead>\n",
       "    <tr style=\"text-align: right;\">\n",
       "      <th></th>\n",
       "      <th>season</th>\n",
       "      <th>area(hec)</th>\n",
       "      <th>tempmax</th>\n",
       "      <th>tempmin</th>\n",
       "      <th>temp</th>\n",
       "      <th>feelslikemax</th>\n",
       "      <th>feelslikemin</th>\n",
       "      <th>feelslike</th>\n",
       "      <th>dew</th>\n",
       "      <th>humidity</th>\n",
       "      <th>windspeed</th>\n",
       "      <th>winddir</th>\n",
       "      <th>sealevelpressure</th>\n",
       "      <th>cloudcover</th>\n",
       "      <th>visibility</th>\n",
       "      <th>production(MT)</th>\n",
       "    </tr>\n",
       "  </thead>\n",
       "  <tbody>\n",
       "    <tr>\n",
       "      <th>0</th>\n",
       "      <td>1</td>\n",
       "      <td>491.0</td>\n",
       "      <td>31.426257</td>\n",
       "      <td>21.556983</td>\n",
       "      <td>27.377654</td>\n",
       "      <td>35.978212</td>\n",
       "      <td>21.556983</td>\n",
       "      <td>29.975978</td>\n",
       "      <td>22.402235</td>\n",
       "      <td>75.672737</td>\n",
       "      <td>20.652514</td>\n",
       "      <td>169.201117</td>\n",
       "      <td>1009.093296</td>\n",
       "      <td>45.236872</td>\n",
       "      <td>11.863128</td>\n",
       "      <td>1695</td>\n",
       "    </tr>\n",
       "    <tr>\n",
       "      <th>1</th>\n",
       "      <td>2</td>\n",
       "      <td>384.0</td>\n",
       "      <td>30.735119</td>\n",
       "      <td>21.498810</td>\n",
       "      <td>27.035714</td>\n",
       "      <td>35.520833</td>\n",
       "      <td>21.498810</td>\n",
       "      <td>29.496429</td>\n",
       "      <td>23.038690</td>\n",
       "      <td>79.574762</td>\n",
       "      <td>19.487500</td>\n",
       "      <td>187.786905</td>\n",
       "      <td>1009.424405</td>\n",
       "      <td>57.911310</td>\n",
       "      <td>12.922024</td>\n",
       "      <td>3648</td>\n",
       "    </tr>\n",
       "    <tr>\n",
       "      <th>2</th>\n",
       "      <td>1</td>\n",
       "      <td>504.0</td>\n",
       "      <td>32.743094</td>\n",
       "      <td>21.376796</td>\n",
       "      <td>27.580110</td>\n",
       "      <td>37.991160</td>\n",
       "      <td>21.376796</td>\n",
       "      <td>30.455249</td>\n",
       "      <td>22.895580</td>\n",
       "      <td>77.036298</td>\n",
       "      <td>20.113260</td>\n",
       "      <td>164.210497</td>\n",
       "      <td>1009.548619</td>\n",
       "      <td>50.776796</td>\n",
       "      <td>13.509392</td>\n",
       "      <td>1715</td>\n",
       "    </tr>\n",
       "    <tr>\n",
       "      <th>3</th>\n",
       "      <td>2</td>\n",
       "      <td>414.0</td>\n",
       "      <td>30.269022</td>\n",
       "      <td>21.120109</td>\n",
       "      <td>26.505435</td>\n",
       "      <td>34.859783</td>\n",
       "      <td>21.120109</td>\n",
       "      <td>28.627717</td>\n",
       "      <td>22.838587</td>\n",
       "      <td>80.983152</td>\n",
       "      <td>19.066304</td>\n",
       "      <td>202.689674</td>\n",
       "      <td>1008.176087</td>\n",
       "      <td>67.685870</td>\n",
       "      <td>13.566304</td>\n",
       "      <td>3929</td>\n",
       "    </tr>\n",
       "    <tr>\n",
       "      <th>4</th>\n",
       "      <td>1</td>\n",
       "      <td>496.0</td>\n",
       "      <td>31.633523</td>\n",
       "      <td>21.084659</td>\n",
       "      <td>27.017045</td>\n",
       "      <td>36.293750</td>\n",
       "      <td>21.084659</td>\n",
       "      <td>29.450568</td>\n",
       "      <td>22.651136</td>\n",
       "      <td>78.151420</td>\n",
       "      <td>20.335795</td>\n",
       "      <td>165.268750</td>\n",
       "      <td>1008.642045</td>\n",
       "      <td>60.318750</td>\n",
       "      <td>13.209659</td>\n",
       "      <td>1587</td>\n",
       "    </tr>\n",
       "  </tbody>\n",
       "</table>\n",
       "</div>"
      ],
      "text/plain": [
       "   season  area(hec)    tempmax    tempmin       temp  feelslikemax  \\\n",
       "0       1      491.0  31.426257  21.556983  27.377654     35.978212   \n",
       "1       2      384.0  30.735119  21.498810  27.035714     35.520833   \n",
       "2       1      504.0  32.743094  21.376796  27.580110     37.991160   \n",
       "3       2      414.0  30.269022  21.120109  26.505435     34.859783   \n",
       "4       1      496.0  31.633523  21.084659  27.017045     36.293750   \n",
       "\n",
       "   feelslikemin  feelslike        dew   humidity  windspeed     winddir  \\\n",
       "0     21.556983  29.975978  22.402235  75.672737  20.652514  169.201117   \n",
       "1     21.498810  29.496429  23.038690  79.574762  19.487500  187.786905   \n",
       "2     21.376796  30.455249  22.895580  77.036298  20.113260  164.210497   \n",
       "3     21.120109  28.627717  22.838587  80.983152  19.066304  202.689674   \n",
       "4     21.084659  29.450568  22.651136  78.151420  20.335795  165.268750   \n",
       "\n",
       "   sealevelpressure  cloudcover  visibility  production(MT)  \n",
       "0       1009.093296   45.236872   11.863128            1695  \n",
       "1       1009.424405   57.911310   12.922024            3648  \n",
       "2       1009.548619   50.776796   13.509392            1715  \n",
       "3       1008.176087   67.685870   13.566304            3929  \n",
       "4       1008.642045   60.318750   13.209659            1587  "
      ]
     },
     "execution_count": 40,
     "metadata": {},
     "output_type": "execute_result"
    }
   ],
   "source": [
    "train.head(5)"
   ]
  },
  {
   "cell_type": "code",
   "execution_count": 41,
   "id": "f16880bc",
   "metadata": {},
   "outputs": [],
   "source": [
    "# for col in train.dtypes[train.dtypes == \"object\"].index:\n",
    "#     for_dummy = train.pop(col)\n",
    "#     train = pd.concat([train, pd.get_dummies(for_dummy,prefix=col)],axis=1)\n",
    "# train.head()"
   ]
  },
  {
   "cell_type": "code",
   "execution_count": 42,
   "id": "301dfa9a",
   "metadata": {},
   "outputs": [],
   "source": [
    "labels = train.pop(\"production(MT)\")"
   ]
  },
  {
   "cell_type": "code",
   "execution_count": 43,
   "id": "208fddc1",
   "metadata": {},
   "outputs": [],
   "source": [
    "from sklearn.model_selection import train_test_split\n",
    "x_train, x_test, y_train, y_test = train_test_split(train,labels,test_size=0.2)"
   ]
  },
  {
   "cell_type": "code",
   "execution_count": 44,
   "id": "eb7a69fe",
   "metadata": {},
   "outputs": [
    {
     "data": {
      "text/plain": [
       "RandomForestClassifier()"
      ]
     },
     "execution_count": 44,
     "metadata": {},
     "output_type": "execute_result"
    }
   ],
   "source": [
    "from sklearn.ensemble import RandomForestClassifier\n",
    "rf = RandomForestClassifier()\n",
    "rf.fit(x_train,y_train)"
   ]
  },
  {
   "cell_type": "code",
   "execution_count": 45,
   "id": "4d6b03a4",
   "metadata": {},
   "outputs": [],
   "source": [
    "y_pred = rf.predict(x_test)"
   ]
  },
  {
   "cell_type": "code",
   "execution_count": 46,
   "id": "50b98df9",
   "metadata": {},
   "outputs": [
    {
     "ename": "ValueError",
     "evalue": "multiclass format is not supported",
     "output_type": "error",
     "traceback": [
      "\u001b[1;31m---------------------------------------------------------------------------\u001b[0m",
      "\u001b[1;31mValueError\u001b[0m                                Traceback (most recent call last)",
      "\u001b[1;32m~\\AppData\\Local\\Temp/ipykernel_23616/205635220.py\u001b[0m in \u001b[0;36m<module>\u001b[1;34m\u001b[0m\n\u001b[0;32m      1\u001b[0m \u001b[1;32mfrom\u001b[0m \u001b[0msklearn\u001b[0m\u001b[1;33m.\u001b[0m\u001b[0mmetrics\u001b[0m \u001b[1;32mimport\u001b[0m \u001b[0mroc_curve\u001b[0m\u001b[1;33m,\u001b[0m \u001b[0mauc\u001b[0m\u001b[1;33m\u001b[0m\u001b[1;33m\u001b[0m\u001b[0m\n\u001b[1;32m----> 2\u001b[1;33m \u001b[0mfalse_positive_rate\u001b[0m\u001b[1;33m,\u001b[0m \u001b[0mtrue_positive_rate\u001b[0m\u001b[1;33m,\u001b[0m \u001b[0mthresholds\u001b[0m \u001b[1;33m=\u001b[0m \u001b[0mroc_curve\u001b[0m\u001b[1;33m(\u001b[0m\u001b[0my_test\u001b[0m\u001b[1;33m,\u001b[0m\u001b[0my_pred\u001b[0m\u001b[1;33m)\u001b[0m\u001b[1;33m\u001b[0m\u001b[1;33m\u001b[0m\u001b[0m\n\u001b[0m",
      "\u001b[1;32m~\\anaconda3\\lib\\site-packages\\sklearn\\utils\\validation.py\u001b[0m in \u001b[0;36minner_f\u001b[1;34m(*args, **kwargs)\u001b[0m\n\u001b[0;32m     61\u001b[0m             \u001b[0mextra_args\u001b[0m \u001b[1;33m=\u001b[0m \u001b[0mlen\u001b[0m\u001b[1;33m(\u001b[0m\u001b[0margs\u001b[0m\u001b[1;33m)\u001b[0m \u001b[1;33m-\u001b[0m \u001b[0mlen\u001b[0m\u001b[1;33m(\u001b[0m\u001b[0mall_args\u001b[0m\u001b[1;33m)\u001b[0m\u001b[1;33m\u001b[0m\u001b[1;33m\u001b[0m\u001b[0m\n\u001b[0;32m     62\u001b[0m             \u001b[1;32mif\u001b[0m \u001b[0mextra_args\u001b[0m \u001b[1;33m<=\u001b[0m \u001b[1;36m0\u001b[0m\u001b[1;33m:\u001b[0m\u001b[1;33m\u001b[0m\u001b[1;33m\u001b[0m\u001b[0m\n\u001b[1;32m---> 63\u001b[1;33m                 \u001b[1;32mreturn\u001b[0m \u001b[0mf\u001b[0m\u001b[1;33m(\u001b[0m\u001b[1;33m*\u001b[0m\u001b[0margs\u001b[0m\u001b[1;33m,\u001b[0m \u001b[1;33m**\u001b[0m\u001b[0mkwargs\u001b[0m\u001b[1;33m)\u001b[0m\u001b[1;33m\u001b[0m\u001b[1;33m\u001b[0m\u001b[0m\n\u001b[0m\u001b[0;32m     64\u001b[0m \u001b[1;33m\u001b[0m\u001b[0m\n\u001b[0;32m     65\u001b[0m             \u001b[1;31m# extra_args > 0\u001b[0m\u001b[1;33m\u001b[0m\u001b[1;33m\u001b[0m\u001b[0m\n",
      "\u001b[1;32m~\\anaconda3\\lib\\site-packages\\sklearn\\metrics\\_ranking.py\u001b[0m in \u001b[0;36mroc_curve\u001b[1;34m(y_true, y_score, pos_label, sample_weight, drop_intermediate)\u001b[0m\n\u001b[0;32m    911\u001b[0m \u001b[1;33m\u001b[0m\u001b[0m\n\u001b[0;32m    912\u001b[0m     \"\"\"\n\u001b[1;32m--> 913\u001b[1;33m     fps, tps, thresholds = _binary_clf_curve(\n\u001b[0m\u001b[0;32m    914\u001b[0m         y_true, y_score, pos_label=pos_label, sample_weight=sample_weight)\n\u001b[0;32m    915\u001b[0m \u001b[1;33m\u001b[0m\u001b[0m\n",
      "\u001b[1;32m~\\anaconda3\\lib\\site-packages\\sklearn\\metrics\\_ranking.py\u001b[0m in \u001b[0;36m_binary_clf_curve\u001b[1;34m(y_true, y_score, pos_label, sample_weight)\u001b[0m\n\u001b[0;32m    689\u001b[0m     if not (y_type == \"binary\" or\n\u001b[0;32m    690\u001b[0m             (y_type == \"multiclass\" and pos_label is not None)):\n\u001b[1;32m--> 691\u001b[1;33m         \u001b[1;32mraise\u001b[0m \u001b[0mValueError\u001b[0m\u001b[1;33m(\u001b[0m\u001b[1;34m\"{0} format is not supported\"\u001b[0m\u001b[1;33m.\u001b[0m\u001b[0mformat\u001b[0m\u001b[1;33m(\u001b[0m\u001b[0my_type\u001b[0m\u001b[1;33m)\u001b[0m\u001b[1;33m)\u001b[0m\u001b[1;33m\u001b[0m\u001b[1;33m\u001b[0m\u001b[0m\n\u001b[0m\u001b[0;32m    692\u001b[0m \u001b[1;33m\u001b[0m\u001b[0m\n\u001b[0;32m    693\u001b[0m     \u001b[0mcheck_consistent_length\u001b[0m\u001b[1;33m(\u001b[0m\u001b[0my_true\u001b[0m\u001b[1;33m,\u001b[0m \u001b[0my_score\u001b[0m\u001b[1;33m,\u001b[0m \u001b[0msample_weight\u001b[0m\u001b[1;33m)\u001b[0m\u001b[1;33m\u001b[0m\u001b[1;33m\u001b[0m\u001b[0m\n",
      "\u001b[1;31mValueError\u001b[0m: multiclass format is not supported"
     ]
    }
   ],
   "source": [
    "# from sklearn.metrics import roc_curve, auc\n",
    "# false_positive_rate, true_positive_rate, thresholds = roc_curve(y_test,y_pred)\n"
   ]
  },
  {
   "cell_type": "code",
   "execution_count": 47,
   "id": "2f1f80e9",
   "metadata": {},
   "outputs": [],
   "source": [
    "n_estimator = [1,2,4,8,16,32,64,100,200]\n",
    "train_result = []\n",
    "test_result"
   ]
  }
 ],
 "metadata": {
  "kernelspec": {
   "display_name": "Python 3 (ipykernel)",
   "language": "python",
   "name": "python3"
  },
  "language_info": {
   "codemirror_mode": {
    "name": "ipython",
    "version": 3
   },
   "file_extension": ".py",
   "mimetype": "text/x-python",
   "name": "python",
   "nbconvert_exporter": "python",
   "pygments_lexer": "ipython3",
   "version": "3.9.7"
  }
 },
 "nbformat": 4,
 "nbformat_minor": 5
}
