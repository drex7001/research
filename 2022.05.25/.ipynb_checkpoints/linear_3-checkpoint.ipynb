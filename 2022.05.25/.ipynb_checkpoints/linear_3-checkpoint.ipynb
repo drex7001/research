{
 "cells": [
  {
   "cell_type": "code",
   "execution_count": 60,
   "metadata": {
    "executionInfo": {
     "elapsed": 5,
     "status": "ok",
     "timestamp": 1653577407104,
     "user": {
      "displayName": "kosala disanayake",
      "userId": "01683166468932858038"
     },
     "user_tz": -330
    },
    "id": "dqIuEtuZxbCQ"
   },
   "outputs": [],
   "source": [
    "import os\n",
    "import numpy as np\n",
    "import pandas as pd\n",
    "from sklearn import linear_model\n",
    "from sklearn.preprocessing import LabelEncoder\n",
    "from sklearn.model_selection import train_test_split\n",
    "import seaborn as sns\n",
    "import matplotlib.pyplot as plt"
   ]
  },
  {
   "cell_type": "code",
   "execution_count": 61,
   "metadata": {
    "colab": {
     "base_uri": "https://localhost:8080/",
     "height": 488
    },
    "executionInfo": {
     "elapsed": 363,
     "status": "ok",
     "timestamp": 1653576724678,
     "user": {
      "displayName": "kosala disanayake",
      "userId": "01683166468932858038"
     },
     "user_tz": -330
    },
    "id": "zyXog9SvxbCX",
    "outputId": "a00f6abf-2c1c-4549-d3e6-6857b8bc0892"
   },
   "outputs": [
    {
     "data": {
      "text/html": [
       "<div>\n",
       "<style scoped>\n",
       "    .dataframe tbody tr th:only-of-type {\n",
       "        vertical-align: middle;\n",
       "    }\n",
       "\n",
       "    .dataframe tbody tr th {\n",
       "        vertical-align: top;\n",
       "    }\n",
       "\n",
       "    .dataframe thead th {\n",
       "        text-align: right;\n",
       "    }\n",
       "</style>\n",
       "<table border=\"1\" class=\"dataframe\">\n",
       "  <thead>\n",
       "    <tr style=\"text-align: right;\">\n",
       "      <th></th>\n",
       "      <th>year</th>\n",
       "      <th>city</th>\n",
       "      <th>season</th>\n",
       "      <th>area(hec)</th>\n",
       "      <th>production(MT)</th>\n",
       "      <th>tempmax</th>\n",
       "      <th>tempmin</th>\n",
       "      <th>temp</th>\n",
       "      <th>feelslikemax</th>\n",
       "      <th>feelslikemin</th>\n",
       "      <th>feelslike</th>\n",
       "      <th>dew</th>\n",
       "      <th>humidity</th>\n",
       "      <th>windspeed</th>\n",
       "      <th>winddir</th>\n",
       "      <th>sealevelpressure</th>\n",
       "      <th>cloudcover</th>\n",
       "      <th>visibility</th>\n",
       "    </tr>\n",
       "  </thead>\n",
       "  <tbody>\n",
       "    <tr>\n",
       "      <th>0</th>\n",
       "      <td>2009</td>\n",
       "      <td>Kurunegala</td>\n",
       "      <td>1</td>\n",
       "      <td>491.00</td>\n",
       "      <td>1695</td>\n",
       "      <td>31.426257</td>\n",
       "      <td>21.556983</td>\n",
       "      <td>27.377654</td>\n",
       "      <td>35.978212</td>\n",
       "      <td>21.556983</td>\n",
       "      <td>29.975978</td>\n",
       "      <td>22.402235</td>\n",
       "      <td>75.672737</td>\n",
       "      <td>20.652514</td>\n",
       "      <td>169.201117</td>\n",
       "      <td>1009.093296</td>\n",
       "      <td>45.236872</td>\n",
       "      <td>11.863128</td>\n",
       "    </tr>\n",
       "    <tr>\n",
       "      <th>1</th>\n",
       "      <td>2009</td>\n",
       "      <td>Kurunegala</td>\n",
       "      <td>2</td>\n",
       "      <td>384.00</td>\n",
       "      <td>3648</td>\n",
       "      <td>30.735119</td>\n",
       "      <td>21.498810</td>\n",
       "      <td>27.035714</td>\n",
       "      <td>35.520833</td>\n",
       "      <td>21.498810</td>\n",
       "      <td>29.496429</td>\n",
       "      <td>23.038690</td>\n",
       "      <td>79.574762</td>\n",
       "      <td>19.487500</td>\n",
       "      <td>187.786905</td>\n",
       "      <td>1009.424405</td>\n",
       "      <td>57.911310</td>\n",
       "      <td>12.922024</td>\n",
       "    </tr>\n",
       "    <tr>\n",
       "      <th>2</th>\n",
       "      <td>2010</td>\n",
       "      <td>Kurunegala</td>\n",
       "      <td>1</td>\n",
       "      <td>504.00</td>\n",
       "      <td>1715</td>\n",
       "      <td>32.743094</td>\n",
       "      <td>21.376796</td>\n",
       "      <td>27.580110</td>\n",
       "      <td>37.991160</td>\n",
       "      <td>21.376796</td>\n",
       "      <td>30.455249</td>\n",
       "      <td>22.895580</td>\n",
       "      <td>77.036298</td>\n",
       "      <td>20.113260</td>\n",
       "      <td>164.210497</td>\n",
       "      <td>1009.548619</td>\n",
       "      <td>50.776796</td>\n",
       "      <td>13.509392</td>\n",
       "    </tr>\n",
       "    <tr>\n",
       "      <th>3</th>\n",
       "      <td>2010</td>\n",
       "      <td>Kurunegala</td>\n",
       "      <td>2</td>\n",
       "      <td>414.00</td>\n",
       "      <td>3929</td>\n",
       "      <td>30.269022</td>\n",
       "      <td>21.120109</td>\n",
       "      <td>26.505435</td>\n",
       "      <td>34.859783</td>\n",
       "      <td>21.120109</td>\n",
       "      <td>28.627717</td>\n",
       "      <td>22.838587</td>\n",
       "      <td>80.983152</td>\n",
       "      <td>19.066304</td>\n",
       "      <td>202.689674</td>\n",
       "      <td>1008.176087</td>\n",
       "      <td>67.685870</td>\n",
       "      <td>13.566304</td>\n",
       "    </tr>\n",
       "    <tr>\n",
       "      <th>4</th>\n",
       "      <td>2011</td>\n",
       "      <td>Kurunegala</td>\n",
       "      <td>1</td>\n",
       "      <td>496.00</td>\n",
       "      <td>1587</td>\n",
       "      <td>31.633523</td>\n",
       "      <td>21.084659</td>\n",
       "      <td>27.017045</td>\n",
       "      <td>36.293750</td>\n",
       "      <td>21.084659</td>\n",
       "      <td>29.450568</td>\n",
       "      <td>22.651136</td>\n",
       "      <td>78.151420</td>\n",
       "      <td>20.335795</td>\n",
       "      <td>165.268750</td>\n",
       "      <td>1008.642045</td>\n",
       "      <td>60.318750</td>\n",
       "      <td>13.209659</td>\n",
       "    </tr>\n",
       "    <tr>\n",
       "      <th>...</th>\n",
       "      <td>...</td>\n",
       "      <td>...</td>\n",
       "      <td>...</td>\n",
       "      <td>...</td>\n",
       "      <td>...</td>\n",
       "      <td>...</td>\n",
       "      <td>...</td>\n",
       "      <td>...</td>\n",
       "      <td>...</td>\n",
       "      <td>...</td>\n",
       "      <td>...</td>\n",
       "      <td>...</td>\n",
       "      <td>...</td>\n",
       "      <td>...</td>\n",
       "      <td>...</td>\n",
       "      <td>...</td>\n",
       "      <td>...</td>\n",
       "      <td>...</td>\n",
       "    </tr>\n",
       "    <tr>\n",
       "      <th>115</th>\n",
       "      <td>2016</td>\n",
       "      <td>Nuwaraeliya</td>\n",
       "      <td>1</td>\n",
       "      <td>59.00</td>\n",
       "      <td>1262</td>\n",
       "      <td>19.002312</td>\n",
       "      <td>13.518497</td>\n",
       "      <td>15.824855</td>\n",
       "      <td>19.028902</td>\n",
       "      <td>13.518497</td>\n",
       "      <td>15.869942</td>\n",
       "      <td>13.206936</td>\n",
       "      <td>85.348092</td>\n",
       "      <td>11.668786</td>\n",
       "      <td>233.346821</td>\n",
       "      <td>1010.005780</td>\n",
       "      <td>65.633526</td>\n",
       "      <td>17.602312</td>\n",
       "    </tr>\n",
       "    <tr>\n",
       "      <th>116</th>\n",
       "      <td>2017</td>\n",
       "      <td>Nuwaraeliya</td>\n",
       "      <td>1</td>\n",
       "      <td>27.61</td>\n",
       "      <td>394</td>\n",
       "      <td>20.706897</td>\n",
       "      <td>12.003448</td>\n",
       "      <td>15.935632</td>\n",
       "      <td>20.785632</td>\n",
       "      <td>12.000000</td>\n",
       "      <td>15.989655</td>\n",
       "      <td>11.847126</td>\n",
       "      <td>79.532701</td>\n",
       "      <td>9.758621</td>\n",
       "      <td>191.841379</td>\n",
       "      <td>1010.048851</td>\n",
       "      <td>55.951724</td>\n",
       "      <td>16.705747</td>\n",
       "    </tr>\n",
       "    <tr>\n",
       "      <th>117</th>\n",
       "      <td>2017</td>\n",
       "      <td>Nuwaraeliya</td>\n",
       "      <td>2</td>\n",
       "      <td>31.00</td>\n",
       "      <td>451</td>\n",
       "      <td>19.253333</td>\n",
       "      <td>13.970000</td>\n",
       "      <td>16.192778</td>\n",
       "      <td>19.252778</td>\n",
       "      <td>13.970000</td>\n",
       "      <td>16.232778</td>\n",
       "      <td>14.115556</td>\n",
       "      <td>88.057167</td>\n",
       "      <td>10.872222</td>\n",
       "      <td>232.321111</td>\n",
       "      <td>1009.157222</td>\n",
       "      <td>75.410556</td>\n",
       "      <td>16.677778</td>\n",
       "    </tr>\n",
       "    <tr>\n",
       "      <th>118</th>\n",
       "      <td>2018</td>\n",
       "      <td>Nuwaraeliya</td>\n",
       "      <td>1</td>\n",
       "      <td>9.00</td>\n",
       "      <td>235</td>\n",
       "      <td>20.076437</td>\n",
       "      <td>12.905747</td>\n",
       "      <td>16.143103</td>\n",
       "      <td>20.089080</td>\n",
       "      <td>12.905747</td>\n",
       "      <td>16.186207</td>\n",
       "      <td>13.051149</td>\n",
       "      <td>83.634310</td>\n",
       "      <td>12.139655</td>\n",
       "      <td>177.602874</td>\n",
       "      <td>1009.322414</td>\n",
       "      <td>61.379310</td>\n",
       "      <td>18.171264</td>\n",
       "    </tr>\n",
       "    <tr>\n",
       "      <th>119</th>\n",
       "      <td>2018</td>\n",
       "      <td>Nuwaraeliya</td>\n",
       "      <td>2</td>\n",
       "      <td>20.00</td>\n",
       "      <td>344</td>\n",
       "      <td>19.052830</td>\n",
       "      <td>13.891824</td>\n",
       "      <td>16.135849</td>\n",
       "      <td>19.122642</td>\n",
       "      <td>13.891824</td>\n",
       "      <td>16.193082</td>\n",
       "      <td>13.827673</td>\n",
       "      <td>87.001384</td>\n",
       "      <td>12.648428</td>\n",
       "      <td>211.902516</td>\n",
       "      <td>1009.945283</td>\n",
       "      <td>73.183019</td>\n",
       "      <td>17.981761</td>\n",
       "    </tr>\n",
       "  </tbody>\n",
       "</table>\n",
       "<p>120 rows × 18 columns</p>\n",
       "</div>"
      ],
      "text/plain": [
       "     year         city  season  area(hec)  production(MT)    tempmax  \\\n",
       "0    2009   Kurunegala       1     491.00            1695  31.426257   \n",
       "1    2009   Kurunegala       2     384.00            3648  30.735119   \n",
       "2    2010   Kurunegala       1     504.00            1715  32.743094   \n",
       "3    2010   Kurunegala       2     414.00            3929  30.269022   \n",
       "4    2011   Kurunegala       1     496.00            1587  31.633523   \n",
       "..    ...          ...     ...        ...             ...        ...   \n",
       "115  2016  Nuwaraeliya       1      59.00            1262  19.002312   \n",
       "116  2017  Nuwaraeliya       1      27.61             394  20.706897   \n",
       "117  2017  Nuwaraeliya       2      31.00             451  19.253333   \n",
       "118  2018  Nuwaraeliya       1       9.00             235  20.076437   \n",
       "119  2018  Nuwaraeliya       2      20.00             344  19.052830   \n",
       "\n",
       "       tempmin       temp  feelslikemax  feelslikemin  feelslike        dew  \\\n",
       "0    21.556983  27.377654     35.978212     21.556983  29.975978  22.402235   \n",
       "1    21.498810  27.035714     35.520833     21.498810  29.496429  23.038690   \n",
       "2    21.376796  27.580110     37.991160     21.376796  30.455249  22.895580   \n",
       "3    21.120109  26.505435     34.859783     21.120109  28.627717  22.838587   \n",
       "4    21.084659  27.017045     36.293750     21.084659  29.450568  22.651136   \n",
       "..         ...        ...           ...           ...        ...        ...   \n",
       "115  13.518497  15.824855     19.028902     13.518497  15.869942  13.206936   \n",
       "116  12.003448  15.935632     20.785632     12.000000  15.989655  11.847126   \n",
       "117  13.970000  16.192778     19.252778     13.970000  16.232778  14.115556   \n",
       "118  12.905747  16.143103     20.089080     12.905747  16.186207  13.051149   \n",
       "119  13.891824  16.135849     19.122642     13.891824  16.193082  13.827673   \n",
       "\n",
       "      humidity  windspeed     winddir  sealevelpressure  cloudcover  \\\n",
       "0    75.672737  20.652514  169.201117       1009.093296   45.236872   \n",
       "1    79.574762  19.487500  187.786905       1009.424405   57.911310   \n",
       "2    77.036298  20.113260  164.210497       1009.548619   50.776796   \n",
       "3    80.983152  19.066304  202.689674       1008.176087   67.685870   \n",
       "4    78.151420  20.335795  165.268750       1008.642045   60.318750   \n",
       "..         ...        ...         ...               ...         ...   \n",
       "115  85.348092  11.668786  233.346821       1010.005780   65.633526   \n",
       "116  79.532701   9.758621  191.841379       1010.048851   55.951724   \n",
       "117  88.057167  10.872222  232.321111       1009.157222   75.410556   \n",
       "118  83.634310  12.139655  177.602874       1009.322414   61.379310   \n",
       "119  87.001384  12.648428  211.902516       1009.945283   73.183019   \n",
       "\n",
       "     visibility  \n",
       "0     11.863128  \n",
       "1     12.922024  \n",
       "2     13.509392  \n",
       "3     13.566304  \n",
       "4     13.209659  \n",
       "..          ...  \n",
       "115   17.602312  \n",
       "116   16.705747  \n",
       "117   16.677778  \n",
       "118   18.171264  \n",
       "119   17.981761  \n",
       "\n",
       "[120 rows x 18 columns]"
      ]
     },
     "execution_count": 61,
     "metadata": {},
     "output_type": "execute_result"
    }
   ],
   "source": [
    "# Read dataset to a dataframe\n",
    "df = pd.read_csv('final_fullset_cleared.csv')\n",
    "\n",
    "df"
   ]
  },
  {
   "cell_type": "code",
   "execution_count": 62,
   "metadata": {
    "executionInfo": {
     "elapsed": 376,
     "status": "ok",
     "timestamp": 1653576744366,
     "user": {
      "displayName": "kosala disanayake",
      "userId": "01683166468932858038"
     },
     "user_tz": -330
    },
    "id": "6h8bwq0JzKoC"
   },
   "outputs": [],
   "source": [
    "label_encoder = LabelEncoder()\n",
    "\n",
    "def label_encoder_converter(df_in):\n",
    "    \n",
    "    df['city'] = label_encoder.fit_transform(df['city'])\n",
    "\n",
    "\n",
    "label_encoder_converter(df)"
   ]
  },
  {
   "cell_type": "code",
   "execution_count": 63,
   "metadata": {
    "executionInfo": {
     "elapsed": 468,
     "status": "ok",
     "timestamp": 1653577215347,
     "user": {
      "displayName": "kosala disanayake",
      "userId": "01683166468932858038"
     },
     "user_tz": -330
    },
    "id": "gXAWkFCFyZ9Z"
   },
   "outputs": [],
   "source": [
    "df= df.drop(['year'], axis=1)"
   ]
  },
  {
   "cell_type": "code",
   "execution_count": 64,
   "metadata": {
    "colab": {
     "base_uri": "https://localhost:8080/",
     "height": 488
    },
    "executionInfo": {
     "elapsed": 354,
     "status": "ok",
     "timestamp": 1653576750396,
     "user": {
      "displayName": "kosala disanayake",
      "userId": "01683166468932858038"
     },
     "user_tz": -330
    },
    "id": "T--QaxjSzGf6",
    "outputId": "e127ba2d-b78c-4d68-bbe6-0e9db1169d74"
   },
   "outputs": [
    {
     "data": {
      "text/html": [
       "<div>\n",
       "<style scoped>\n",
       "    .dataframe tbody tr th:only-of-type {\n",
       "        vertical-align: middle;\n",
       "    }\n",
       "\n",
       "    .dataframe tbody tr th {\n",
       "        vertical-align: top;\n",
       "    }\n",
       "\n",
       "    .dataframe thead th {\n",
       "        text-align: right;\n",
       "    }\n",
       "</style>\n",
       "<table border=\"1\" class=\"dataframe\">\n",
       "  <thead>\n",
       "    <tr style=\"text-align: right;\">\n",
       "      <th></th>\n",
       "      <th>season</th>\n",
       "      <th>area(hec)</th>\n",
       "      <th>production(MT)</th>\n",
       "      <th>tempmax</th>\n",
       "      <th>tempmin</th>\n",
       "      <th>temp</th>\n",
       "      <th>feelslikemax</th>\n",
       "      <th>feelslikemin</th>\n",
       "      <th>feelslike</th>\n",
       "      <th>dew</th>\n",
       "      <th>humidity</th>\n",
       "      <th>windspeed</th>\n",
       "      <th>winddir</th>\n",
       "      <th>sealevelpressure</th>\n",
       "      <th>cloudcover</th>\n",
       "      <th>visibility</th>\n",
       "    </tr>\n",
       "  </thead>\n",
       "  <tbody>\n",
       "    <tr>\n",
       "      <th>0</th>\n",
       "      <td>1</td>\n",
       "      <td>491.00</td>\n",
       "      <td>1695</td>\n",
       "      <td>31.426257</td>\n",
       "      <td>21.556983</td>\n",
       "      <td>27.377654</td>\n",
       "      <td>35.978212</td>\n",
       "      <td>21.556983</td>\n",
       "      <td>29.975978</td>\n",
       "      <td>22.402235</td>\n",
       "      <td>75.672737</td>\n",
       "      <td>20.652514</td>\n",
       "      <td>169.201117</td>\n",
       "      <td>1009.093296</td>\n",
       "      <td>45.236872</td>\n",
       "      <td>11.863128</td>\n",
       "    </tr>\n",
       "    <tr>\n",
       "      <th>1</th>\n",
       "      <td>2</td>\n",
       "      <td>384.00</td>\n",
       "      <td>3648</td>\n",
       "      <td>30.735119</td>\n",
       "      <td>21.498810</td>\n",
       "      <td>27.035714</td>\n",
       "      <td>35.520833</td>\n",
       "      <td>21.498810</td>\n",
       "      <td>29.496429</td>\n",
       "      <td>23.038690</td>\n",
       "      <td>79.574762</td>\n",
       "      <td>19.487500</td>\n",
       "      <td>187.786905</td>\n",
       "      <td>1009.424405</td>\n",
       "      <td>57.911310</td>\n",
       "      <td>12.922024</td>\n",
       "    </tr>\n",
       "    <tr>\n",
       "      <th>2</th>\n",
       "      <td>1</td>\n",
       "      <td>504.00</td>\n",
       "      <td>1715</td>\n",
       "      <td>32.743094</td>\n",
       "      <td>21.376796</td>\n",
       "      <td>27.580110</td>\n",
       "      <td>37.991160</td>\n",
       "      <td>21.376796</td>\n",
       "      <td>30.455249</td>\n",
       "      <td>22.895580</td>\n",
       "      <td>77.036298</td>\n",
       "      <td>20.113260</td>\n",
       "      <td>164.210497</td>\n",
       "      <td>1009.548619</td>\n",
       "      <td>50.776796</td>\n",
       "      <td>13.509392</td>\n",
       "    </tr>\n",
       "    <tr>\n",
       "      <th>3</th>\n",
       "      <td>2</td>\n",
       "      <td>414.00</td>\n",
       "      <td>3929</td>\n",
       "      <td>30.269022</td>\n",
       "      <td>21.120109</td>\n",
       "      <td>26.505435</td>\n",
       "      <td>34.859783</td>\n",
       "      <td>21.120109</td>\n",
       "      <td>28.627717</td>\n",
       "      <td>22.838587</td>\n",
       "      <td>80.983152</td>\n",
       "      <td>19.066304</td>\n",
       "      <td>202.689674</td>\n",
       "      <td>1008.176087</td>\n",
       "      <td>67.685870</td>\n",
       "      <td>13.566304</td>\n",
       "    </tr>\n",
       "    <tr>\n",
       "      <th>4</th>\n",
       "      <td>1</td>\n",
       "      <td>496.00</td>\n",
       "      <td>1587</td>\n",
       "      <td>31.633523</td>\n",
       "      <td>21.084659</td>\n",
       "      <td>27.017045</td>\n",
       "      <td>36.293750</td>\n",
       "      <td>21.084659</td>\n",
       "      <td>29.450568</td>\n",
       "      <td>22.651136</td>\n",
       "      <td>78.151420</td>\n",
       "      <td>20.335795</td>\n",
       "      <td>165.268750</td>\n",
       "      <td>1008.642045</td>\n",
       "      <td>60.318750</td>\n",
       "      <td>13.209659</td>\n",
       "    </tr>\n",
       "    <tr>\n",
       "      <th>...</th>\n",
       "      <td>...</td>\n",
       "      <td>...</td>\n",
       "      <td>...</td>\n",
       "      <td>...</td>\n",
       "      <td>...</td>\n",
       "      <td>...</td>\n",
       "      <td>...</td>\n",
       "      <td>...</td>\n",
       "      <td>...</td>\n",
       "      <td>...</td>\n",
       "      <td>...</td>\n",
       "      <td>...</td>\n",
       "      <td>...</td>\n",
       "      <td>...</td>\n",
       "      <td>...</td>\n",
       "      <td>...</td>\n",
       "    </tr>\n",
       "    <tr>\n",
       "      <th>115</th>\n",
       "      <td>1</td>\n",
       "      <td>59.00</td>\n",
       "      <td>1262</td>\n",
       "      <td>19.002312</td>\n",
       "      <td>13.518497</td>\n",
       "      <td>15.824855</td>\n",
       "      <td>19.028902</td>\n",
       "      <td>13.518497</td>\n",
       "      <td>15.869942</td>\n",
       "      <td>13.206936</td>\n",
       "      <td>85.348092</td>\n",
       "      <td>11.668786</td>\n",
       "      <td>233.346821</td>\n",
       "      <td>1010.005780</td>\n",
       "      <td>65.633526</td>\n",
       "      <td>17.602312</td>\n",
       "    </tr>\n",
       "    <tr>\n",
       "      <th>116</th>\n",
       "      <td>1</td>\n",
       "      <td>27.61</td>\n",
       "      <td>394</td>\n",
       "      <td>20.706897</td>\n",
       "      <td>12.003448</td>\n",
       "      <td>15.935632</td>\n",
       "      <td>20.785632</td>\n",
       "      <td>12.000000</td>\n",
       "      <td>15.989655</td>\n",
       "      <td>11.847126</td>\n",
       "      <td>79.532701</td>\n",
       "      <td>9.758621</td>\n",
       "      <td>191.841379</td>\n",
       "      <td>1010.048851</td>\n",
       "      <td>55.951724</td>\n",
       "      <td>16.705747</td>\n",
       "    </tr>\n",
       "    <tr>\n",
       "      <th>117</th>\n",
       "      <td>2</td>\n",
       "      <td>31.00</td>\n",
       "      <td>451</td>\n",
       "      <td>19.253333</td>\n",
       "      <td>13.970000</td>\n",
       "      <td>16.192778</td>\n",
       "      <td>19.252778</td>\n",
       "      <td>13.970000</td>\n",
       "      <td>16.232778</td>\n",
       "      <td>14.115556</td>\n",
       "      <td>88.057167</td>\n",
       "      <td>10.872222</td>\n",
       "      <td>232.321111</td>\n",
       "      <td>1009.157222</td>\n",
       "      <td>75.410556</td>\n",
       "      <td>16.677778</td>\n",
       "    </tr>\n",
       "    <tr>\n",
       "      <th>118</th>\n",
       "      <td>1</td>\n",
       "      <td>9.00</td>\n",
       "      <td>235</td>\n",
       "      <td>20.076437</td>\n",
       "      <td>12.905747</td>\n",
       "      <td>16.143103</td>\n",
       "      <td>20.089080</td>\n",
       "      <td>12.905747</td>\n",
       "      <td>16.186207</td>\n",
       "      <td>13.051149</td>\n",
       "      <td>83.634310</td>\n",
       "      <td>12.139655</td>\n",
       "      <td>177.602874</td>\n",
       "      <td>1009.322414</td>\n",
       "      <td>61.379310</td>\n",
       "      <td>18.171264</td>\n",
       "    </tr>\n",
       "    <tr>\n",
       "      <th>119</th>\n",
       "      <td>2</td>\n",
       "      <td>20.00</td>\n",
       "      <td>344</td>\n",
       "      <td>19.052830</td>\n",
       "      <td>13.891824</td>\n",
       "      <td>16.135849</td>\n",
       "      <td>19.122642</td>\n",
       "      <td>13.891824</td>\n",
       "      <td>16.193082</td>\n",
       "      <td>13.827673</td>\n",
       "      <td>87.001384</td>\n",
       "      <td>12.648428</td>\n",
       "      <td>211.902516</td>\n",
       "      <td>1009.945283</td>\n",
       "      <td>73.183019</td>\n",
       "      <td>17.981761</td>\n",
       "    </tr>\n",
       "  </tbody>\n",
       "</table>\n",
       "<p>120 rows × 16 columns</p>\n",
       "</div>"
      ],
      "text/plain": [
       "     season  area(hec)  production(MT)    tempmax    tempmin       temp  \\\n",
       "0         1     491.00            1695  31.426257  21.556983  27.377654   \n",
       "1         2     384.00            3648  30.735119  21.498810  27.035714   \n",
       "2         1     504.00            1715  32.743094  21.376796  27.580110   \n",
       "3         2     414.00            3929  30.269022  21.120109  26.505435   \n",
       "4         1     496.00            1587  31.633523  21.084659  27.017045   \n",
       "..      ...        ...             ...        ...        ...        ...   \n",
       "115       1      59.00            1262  19.002312  13.518497  15.824855   \n",
       "116       1      27.61             394  20.706897  12.003448  15.935632   \n",
       "117       2      31.00             451  19.253333  13.970000  16.192778   \n",
       "118       1       9.00             235  20.076437  12.905747  16.143103   \n",
       "119       2      20.00             344  19.052830  13.891824  16.135849   \n",
       "\n",
       "     feelslikemax  feelslikemin  feelslike        dew   humidity  windspeed  \\\n",
       "0       35.978212     21.556983  29.975978  22.402235  75.672737  20.652514   \n",
       "1       35.520833     21.498810  29.496429  23.038690  79.574762  19.487500   \n",
       "2       37.991160     21.376796  30.455249  22.895580  77.036298  20.113260   \n",
       "3       34.859783     21.120109  28.627717  22.838587  80.983152  19.066304   \n",
       "4       36.293750     21.084659  29.450568  22.651136  78.151420  20.335795   \n",
       "..            ...           ...        ...        ...        ...        ...   \n",
       "115     19.028902     13.518497  15.869942  13.206936  85.348092  11.668786   \n",
       "116     20.785632     12.000000  15.989655  11.847126  79.532701   9.758621   \n",
       "117     19.252778     13.970000  16.232778  14.115556  88.057167  10.872222   \n",
       "118     20.089080     12.905747  16.186207  13.051149  83.634310  12.139655   \n",
       "119     19.122642     13.891824  16.193082  13.827673  87.001384  12.648428   \n",
       "\n",
       "        winddir  sealevelpressure  cloudcover  visibility  \n",
       "0    169.201117       1009.093296   45.236872   11.863128  \n",
       "1    187.786905       1009.424405   57.911310   12.922024  \n",
       "2    164.210497       1009.548619   50.776796   13.509392  \n",
       "3    202.689674       1008.176087   67.685870   13.566304  \n",
       "4    165.268750       1008.642045   60.318750   13.209659  \n",
       "..          ...               ...         ...         ...  \n",
       "115  233.346821       1010.005780   65.633526   17.602312  \n",
       "116  191.841379       1010.048851   55.951724   16.705747  \n",
       "117  232.321111       1009.157222   75.410556   16.677778  \n",
       "118  177.602874       1009.322414   61.379310   18.171264  \n",
       "119  211.902516       1009.945283   73.183019   17.981761  \n",
       "\n",
       "[120 rows x 16 columns]"
      ]
     },
     "execution_count": 64,
     "metadata": {},
     "output_type": "execute_result"
    }
   ],
   "source": [
    "df"
   ]
  },
  {
   "cell_type": "code",
   "execution_count": 65,
   "metadata": {
    "colab": {
     "base_uri": "https://localhost:8080/",
     "height": 687
    },
    "executionInfo": {
     "elapsed": 2358,
     "status": "ok",
     "timestamp": 1653577219975,
     "user": {
      "displayName": "kosala disanayake",
      "userId": "01683166468932858038"
     },
     "user_tz": -330
    },
    "id": "w2AbyNxZxbCb",
    "outputId": "56fba5c4-10fb-4b78-8997-c7e2fd59be79"
   },
   "outputs": [
    {
     "data": {
      "image/png": "[encoded data removed]",
      "text/plain": [
       "<Figure size 1080x720 with 2 Axes>"
      ]
     },
     "metadata": {
      "needs_background": "light"
     },
     "output_type": "display_data"
    }
   ],
   "source": [
    "plt.figure(figsize = (15, 10))\n",
    "sns.heatmap(df.corr(), cmap = 'Blues', square = True, annot = True)\n",
    "plt.title(\"Visualizing Correlations\", size = 20)\n",
    "plt.show()"
   ]
  },
  {
   "cell_type": "code",
   "execution_count": 66,
   "metadata": {
    "colab": {
     "base_uri": "https://localhost:8080/"
    },
    "executionInfo": {
     "elapsed": 350,
     "status": "ok",
     "timestamp": 1653577234225,
     "user": {
      "displayName": "kosala disanayake",
      "userId": "01683166468932858038"
     },
     "user_tz": -330
    },
    "id": "cfo2v4s3xbCf",
    "outputId": "0b8dbc03-67f3-4509-d872-6423a3cf4a53"
   },
   "outputs": [
    {
     "data": {
      "text/plain": [
       "['season',\n",
       " 'area(hec)',\n",
       " 'production(MT)',\n",
       " 'tempmax',\n",
       " 'tempmin',\n",
       " 'temp',\n",
       " 'feelslikemax',\n",
       " 'feelslikemin',\n",
       " 'feelslike',\n",
       " 'dew',\n",
       " 'humidity',\n",
       " 'windspeed',\n",
       " 'winddir',\n",
       " 'sealevelpressure',\n",
       " 'cloudcover',\n",
       " 'visibility']"
      ]
     },
     "execution_count": 66,
     "metadata": {},
     "output_type": "execute_result"
    }
   ],
   "source": [
    "list(df)"
   ]
  },
  {
   "cell_type": "code",
   "execution_count": 67,
   "metadata": {
    "executionInfo": {
     "elapsed": 370,
     "status": "ok",
     "timestamp": 1653577845814,
     "user": {
      "displayName": "kosala disanayake",
      "userId": "01683166468932858038"
     },
     "user_tz": -330
    },
    "id": "paJyyCnrxbCd"
   },
   "outputs": [],
   "source": [
    "X = df[['city','season', 'area(hec)','tempmax','tempmin','temp','feelslikemax','feelslikemin','feelslike','dew','humidity','windspeed','winddir','sealevelpressure','cloudcover','visibility']].values\n",
    "\n",
    "#X = df.iloc[:, 1:].values\n",
    "\n",
    "Y = df['production(MT)'].values"
   ]
  },
  {
   "cell_type": "code",
   "execution_count": 68,
   "metadata": {
    "colab": {
     "base_uri": "https://localhost:8080/"
    },
    "executionInfo": {
     "elapsed": 349,
     "status": "ok",
     "timestamp": 1653577849417,
     "user": {
      "displayName": "kosala disanayake",
      "userId": "01683166468932858038"
     },
     "user_tz": -330
    },
    "id": "_ZkGS-a7xbCg",
    "outputId": "0dd32baf-76e8-427a-9df1-5c8df4520997"
   },
   "outputs": [
    {
     "data": {
      "text/plain": [
       "array([[1.00000000e+00, 4.91000000e+02, 3.14262570e+01, ...,\n",
       "        1.00909330e+03, 4.52368715e+01, 1.18631285e+01],\n",
       "       [2.00000000e+00, 3.84000000e+02, 3.07351191e+01, ...,\n",
       "        1.00942440e+03, 5.79113095e+01, 1.29220238e+01],\n",
       "       [1.00000000e+00, 5.04000000e+02, 3.27430939e+01, ...,\n",
       "        1.00954862e+03, 5.07767956e+01, 1.35093923e+01],\n",
       "       ...,\n",
       "       [2.00000000e+00, 3.10000000e+01, 1.92533333e+01, ...,\n",
       "        1.00915722e+03, 7.54105556e+01, 1.66777778e+01],\n",
       "       [1.00000000e+00, 9.00000000e+00, 2.00764368e+01, ...,\n",
       "        1.00932241e+03, 6.13793103e+01, 1.81712644e+01],\n",
       "       [2.00000000e+00, 2.00000000e+01, 1.90528302e+01, ...,\n",
       "        1.00994528e+03, 7.31830189e+01, 1.79817610e+01]])"
      ]
     },
     "execution_count": 68,
     "metadata": {},
     "output_type": "execute_result"
    }
   ],
   "source": [
    "X"
   ]
  },
  {
   "cell_type": "code",
   "execution_count": 69,
   "metadata": {
    "colab": {
     "base_uri": "https://localhost:8080/"
    },
    "executionInfo": {
     "elapsed": 351,
     "status": "ok",
     "timestamp": 1653577852652,
     "user": {
      "displayName": "kosala disanayake",
      "userId": "01683166468932858038"
     },
     "user_tz": -330
    },
    "id": "ibuJ2Zt9xbCh",
    "outputId": "2ce93528-cd37-4bf1-ea0f-ef30bbe34df7"
   },
   "outputs": [
    {
     "data": {
      "text/plain": [
       "array([1695, 3648, 1715, 3929, 1587, 3762, 1344, 2584, 1179, 3762,  966,\n",
       "       3857, 1077, 1433, 2831, 3123, 2718, 1919,  966, 2141,  423,  442,\n",
       "        465,  350,  482,  284,  459,  360,  482,  266,  462,  266,  337,\n",
       "       3011,   66,  575,   89,  126,  360,  129, 1351, 2177, 1363, 2557,\n",
       "       1550, 2608, 1539, 2451, 1616, 2336,   76,  792, 1171, 1957,  906,\n",
       "       2031, 1067, 2300, 1616, 2704, 1498, 2949, 1662, 3078, 1410, 2880,\n",
       "       1291, 2188, 1421, 2229, 1626, 2584, 1510, 2660, 1361, 2536,  939,\n",
       "       1747, 1715, 3102,  825, 1254,  708, 1089,  412,  864,  634,  929,\n",
       "        614,  911,  430,  746,  437,  813,  295,  596,  264,  446,  472,\n",
       "        640,  200,  486,  221,  474,   99,  344,   99,  344,  224,  648,\n",
       "        235,  659, 1496, 2268,  786, 1262,  394,  451,  235,  344],\n",
       "      dtype=int64)"
      ]
     },
     "execution_count": 69,
     "metadata": {},
     "output_type": "execute_result"
    }
   ],
   "source": [
    "Y"
   ]
  },
  {
   "cell_type": "code",
   "execution_count": 70,
   "metadata": {
    "executionInfo": {
     "elapsed": 512,
     "status": "ok",
     "timestamp": 1653577856329,
     "user": {
      "displayName": "kosala disanayake",
      "userId": "01683166468932858038"
     },
     "user_tz": -330
    },
    "id": "JtEJ6YLO4ubX"
   },
   "outputs": [],
   "source": [
    "X_train, X_test, y_train, y_test = train_test_split(X, Y, test_size = 0.2, random_state = 0)"
   ]
  },
  {
   "cell_type": "code",
   "execution_count": null,
   "metadata": {
    "id": "1-hB9DJt6_jA"
   },
   "outputs": [],
   "source": []
  },
  {
   "cell_type": "code",
   "execution_count": 71,
   "metadata": {
    "colab": {
     "base_uri": "https://localhost:8080/"
    },
    "executionInfo": {
     "elapsed": 457,
     "status": "ok",
     "timestamp": 1653577858310,
     "user": {
      "displayName": "kosala disanayake",
      "userId": "01683166468932858038"
     },
     "user_tz": -330
    },
    "id": "yLkvqwv6xbCi",
    "outputId": "40cc52a0-3d7d-41f6-91e8-7c1b93b491cc"
   },
   "outputs": [
    {
     "data": {
      "text/plain": [
       "LinearRegression()"
      ]
     },
     "execution_count": 71,
     "metadata": {},
     "output_type": "execute_result"
    }
   ],
   "source": [
    "regr = linear_model.LinearRegression()\n",
    "regr.fit(X_train, y_train)"
   ]
  },
  {
   "cell_type": "code",
   "execution_count": 72,
   "metadata": {
    "colab": {
     "base_uri": "https://localhost:8080/"
    },
    "executionInfo": {
     "elapsed": 329,
     "status": "ok",
     "timestamp": 1653577861189,
     "user": {
      "displayName": "kosala disanayake",
      "userId": "01683166468932858038"
     },
     "user_tz": -330
    },
    "id": "8ZwiBFzw5yEE",
    "outputId": "a888916e-232d-45e2-ad62-440916d0fe7d"
   },
   "outputs": [
    {
     "name": "stdout",
     "output_type": "stream",
     "text": [
      "Accuracy: 34.95649634891569 %\n"
     ]
    }
   ],
   "source": [
    "Acc_regr = regr.score(X_test, y_test)\n",
    "\n",
    "print(\"Accuracy:\", Acc_regr * 100, \"%\")"
   ]
  }
 ],
 "metadata": {
  "colab": {
   "name": "ayodya.ipynb",
   "provenance": []
  },
  "interpreter": {
   "hash": "dd8dab7e1b18598ede945ca902fd147b502b0d685023a22c34e3987d5476c3fa"
  },
  "kernelspec": {
   "display_name": "Python 3 (ipykernel)",
   "language": "python",
   "name": "python3"
  },
  "language_info": {
   "codemirror_mode": {
    "name": "ipython",
    "version": 3
   },
   "file_extension": ".py",
   "mimetype": "text/x-python",
   "name": "python",
   "nbconvert_exporter": "python",
   "pygments_lexer": "ipython3",
   "version": "3.9.7"
  }
 },
 "nbformat": 4,
 "nbformat_minor": 1
}
